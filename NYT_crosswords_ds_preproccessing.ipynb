{
  "nbformat": 4,
  "nbformat_minor": 0,
  "metadata": {
    "colab": {
      "name": "NYT preproccessing.ipynb",
      "provenance": [],
      "collapsed_sections": [
        "KCg3mCpKZapd",
        "hikqnJJreC9y"
      ]
    },
    "kernelspec": {
      "name": "python3",
      "display_name": "Python 3"
    },
    "language_info": {
      "name": "python"
    }
  },
  "cells": [
    {
      "cell_type": "code",
      "execution_count": 2,
      "metadata": {
        "id": "g8firAB4DeHz"
      },
      "outputs": [],
      "source": [
        "import pandas as pd\n",
        "import numpy as np\n",
        "import matplotlib.pyplot as plt\n",
        "import re\n",
        "import string\n",
        "import gensim\n",
        "from gensim.models import Word2Vec\n",
        "import sklearn\n",
        "from sklearn.model_selection import train_test_split\n",
        "from gensim import downloader\n",
        "from tqdm import tqdm\n",
        "import random"
      ]
    },
    {
      "cell_type": "code",
      "source": [
        "nyt_df = pd.read_csv('/content/drive/MyDrive/NLP/Project/nytcrosswords.csv',parse_dates = ['Date'],encoding='ISO-8859-1')"
      ],
      "metadata": {
        "id": "3Su1HFbIDlI0"
      },
      "execution_count": 3,
      "outputs": []
    },
    {
      "cell_type": "code",
      "source": [
        "nyt_df"
      ],
      "metadata": {
        "colab": {
          "base_uri": "https://localhost:8080/",
          "height": 423
        },
        "id": "PEqg7_AzD0OH",
        "outputId": "7c9d3438-8c21-465f-a7f0-9739f826d2a2"
      },
      "execution_count": 4,
      "outputs": [
        {
          "output_type": "execute_result",
          "data": {
            "text/plain": [
              "             Date     Word                                 Clue\n",
              "0      2021-10-31      PAT  Action done while saying \"Good dog\"\n",
              "1      2021-10-31  RASCALS                      Mischief-makers\n",
              "2      2021-10-31      PEN          It might click for a writer\n",
              "3      2021-10-31      SEP                             Fall mo.\n",
              "4      2021-10-31      ECO                Kind to Mother Nature\n",
              "...           ...      ...                                  ...\n",
              "781568 1993-11-21      NAT                      Actor Pendleton\n",
              "781569 1993-11-21    SHRED                                  Bit\n",
              "781570 1993-11-21      NEA                       Teachers' org.\n",
              "781571 1993-11-21      BEG                             Petition\n",
              "781572 1993-11-21      SIS                          Family girl\n",
              "\n",
              "[781573 rows x 3 columns]"
            ],
            "text/html": [
              "\n",
              "  <div id=\"df-1afee1df-3933-4c9e-a018-13133af2e730\">\n",
              "    <div class=\"colab-df-container\">\n",
              "      <div>\n",
              "<style scoped>\n",
              "    .dataframe tbody tr th:only-of-type {\n",
              "        vertical-align: middle;\n",
              "    }\n",
              "\n",
              "    .dataframe tbody tr th {\n",
              "        vertical-align: top;\n",
              "    }\n",
              "\n",
              "    .dataframe thead th {\n",
              "        text-align: right;\n",
              "    }\n",
              "</style>\n",
              "<table border=\"1\" class=\"dataframe\">\n",
              "  <thead>\n",
              "    <tr style=\"text-align: right;\">\n",
              "      <th></th>\n",
              "      <th>Date</th>\n",
              "      <th>Word</th>\n",
              "      <th>Clue</th>\n",
              "    </tr>\n",
              "  </thead>\n",
              "  <tbody>\n",
              "    <tr>\n",
              "      <th>0</th>\n",
              "      <td>2021-10-31</td>\n",
              "      <td>PAT</td>\n",
              "      <td>Action done while saying \"Good dog\"</td>\n",
              "    </tr>\n",
              "    <tr>\n",
              "      <th>1</th>\n",
              "      <td>2021-10-31</td>\n",
              "      <td>RASCALS</td>\n",
              "      <td>Mischief-makers</td>\n",
              "    </tr>\n",
              "    <tr>\n",
              "      <th>2</th>\n",
              "      <td>2021-10-31</td>\n",
              "      <td>PEN</td>\n",
              "      <td>It might click for a writer</td>\n",
              "    </tr>\n",
              "    <tr>\n",
              "      <th>3</th>\n",
              "      <td>2021-10-31</td>\n",
              "      <td>SEP</td>\n",
              "      <td>Fall mo.</td>\n",
              "    </tr>\n",
              "    <tr>\n",
              "      <th>4</th>\n",
              "      <td>2021-10-31</td>\n",
              "      <td>ECO</td>\n",
              "      <td>Kind to Mother Nature</td>\n",
              "    </tr>\n",
              "    <tr>\n",
              "      <th>...</th>\n",
              "      <td>...</td>\n",
              "      <td>...</td>\n",
              "      <td>...</td>\n",
              "    </tr>\n",
              "    <tr>\n",
              "      <th>781568</th>\n",
              "      <td>1993-11-21</td>\n",
              "      <td>NAT</td>\n",
              "      <td>Actor Pendleton</td>\n",
              "    </tr>\n",
              "    <tr>\n",
              "      <th>781569</th>\n",
              "      <td>1993-11-21</td>\n",
              "      <td>SHRED</td>\n",
              "      <td>Bit</td>\n",
              "    </tr>\n",
              "    <tr>\n",
              "      <th>781570</th>\n",
              "      <td>1993-11-21</td>\n",
              "      <td>NEA</td>\n",
              "      <td>Teachers' org.</td>\n",
              "    </tr>\n",
              "    <tr>\n",
              "      <th>781571</th>\n",
              "      <td>1993-11-21</td>\n",
              "      <td>BEG</td>\n",
              "      <td>Petition</td>\n",
              "    </tr>\n",
              "    <tr>\n",
              "      <th>781572</th>\n",
              "      <td>1993-11-21</td>\n",
              "      <td>SIS</td>\n",
              "      <td>Family girl</td>\n",
              "    </tr>\n",
              "  </tbody>\n",
              "</table>\n",
              "<p>781573 rows × 3 columns</p>\n",
              "</div>\n",
              "      <button class=\"colab-df-convert\" onclick=\"convertToInteractive('df-1afee1df-3933-4c9e-a018-13133af2e730')\"\n",
              "              title=\"Convert this dataframe to an interactive table.\"\n",
              "              style=\"display:none;\">\n",
              "        \n",
              "  <svg xmlns=\"http://www.w3.org/2000/svg\" height=\"24px\"viewBox=\"0 0 24 24\"\n",
              "       width=\"24px\">\n",
              "    <path d=\"M0 0h24v24H0V0z\" fill=\"none\"/>\n",
              "    <path d=\"M18.56 5.44l.94 2.06.94-2.06 2.06-.94-2.06-.94-.94-2.06-.94 2.06-2.06.94zm-11 1L8.5 8.5l.94-2.06 2.06-.94-2.06-.94L8.5 2.5l-.94 2.06-2.06.94zm10 10l.94 2.06.94-2.06 2.06-.94-2.06-.94-.94-2.06-.94 2.06-2.06.94z\"/><path d=\"M17.41 7.96l-1.37-1.37c-.4-.4-.92-.59-1.43-.59-.52 0-1.04.2-1.43.59L10.3 9.45l-7.72 7.72c-.78.78-.78 2.05 0 2.83L4 21.41c.39.39.9.59 1.41.59.51 0 1.02-.2 1.41-.59l7.78-7.78 2.81-2.81c.8-.78.8-2.07 0-2.86zM5.41 20L4 18.59l7.72-7.72 1.47 1.35L5.41 20z\"/>\n",
              "  </svg>\n",
              "      </button>\n",
              "      \n",
              "  <style>\n",
              "    .colab-df-container {\n",
              "      display:flex;\n",
              "      flex-wrap:wrap;\n",
              "      gap: 12px;\n",
              "    }\n",
              "\n",
              "    .colab-df-convert {\n",
              "      background-color: #E8F0FE;\n",
              "      border: none;\n",
              "      border-radius: 50%;\n",
              "      cursor: pointer;\n",
              "      display: none;\n",
              "      fill: #1967D2;\n",
              "      height: 32px;\n",
              "      padding: 0 0 0 0;\n",
              "      width: 32px;\n",
              "    }\n",
              "\n",
              "    .colab-df-convert:hover {\n",
              "      background-color: #E2EBFA;\n",
              "      box-shadow: 0px 1px 2px rgba(60, 64, 67, 0.3), 0px 1px 3px 1px rgba(60, 64, 67, 0.15);\n",
              "      fill: #174EA6;\n",
              "    }\n",
              "\n",
              "    [theme=dark] .colab-df-convert {\n",
              "      background-color: #3B4455;\n",
              "      fill: #D2E3FC;\n",
              "    }\n",
              "\n",
              "    [theme=dark] .colab-df-convert:hover {\n",
              "      background-color: #434B5C;\n",
              "      box-shadow: 0px 1px 3px 1px rgba(0, 0, 0, 0.15);\n",
              "      filter: drop-shadow(0px 1px 2px rgba(0, 0, 0, 0.3));\n",
              "      fill: #FFFFFF;\n",
              "    }\n",
              "  </style>\n",
              "\n",
              "      <script>\n",
              "        const buttonEl =\n",
              "          document.querySelector('#df-1afee1df-3933-4c9e-a018-13133af2e730 button.colab-df-convert');\n",
              "        buttonEl.style.display =\n",
              "          google.colab.kernel.accessAllowed ? 'block' : 'none';\n",
              "\n",
              "        async function convertToInteractive(key) {\n",
              "          const element = document.querySelector('#df-1afee1df-3933-4c9e-a018-13133af2e730');\n",
              "          const dataTable =\n",
              "            await google.colab.kernel.invokeFunction('convertToInteractive',\n",
              "                                                     [key], {});\n",
              "          if (!dataTable) return;\n",
              "\n",
              "          const docLinkHtml = 'Like what you see? Visit the ' +\n",
              "            '<a target=\"_blank\" href=https://colab.research.google.com/notebooks/data_table.ipynb>data table notebook</a>'\n",
              "            + ' to learn more about interactive tables.';\n",
              "          element.innerHTML = '';\n",
              "          dataTable['output_type'] = 'display_data';\n",
              "          await google.colab.output.renderOutput(dataTable, element);\n",
              "          const docLink = document.createElement('div');\n",
              "          docLink.innerHTML = docLinkHtml;\n",
              "          element.appendChild(docLink);\n",
              "        }\n",
              "      </script>\n",
              "    </div>\n",
              "  </div>\n",
              "  "
            ]
          },
          "metadata": {},
          "execution_count": 4
        }
      ]
    },
    {
      "cell_type": "code",
      "source": [
        "nyt_df['day_of_week'] = nyt_df['Date'].apply(lambda x: x.day_name())"
      ],
      "metadata": {
        "id": "_tQXBAKQEDsm"
      },
      "execution_count": 5,
      "outputs": []
    },
    {
      "cell_type": "code",
      "source": [
        "nyt_df"
      ],
      "metadata": {
        "colab": {
          "base_uri": "https://localhost:8080/",
          "height": 423
        },
        "id": "bWV0_fVnEJbD",
        "outputId": "53ad02e3-0070-4455-c5fc-ca25762dc3d9"
      },
      "execution_count": 6,
      "outputs": [
        {
          "output_type": "execute_result",
          "data": {
            "text/plain": [
              "             Date     Word                                 Clue day_of_week\n",
              "0      2021-10-31      PAT  Action done while saying \"Good dog\"      Sunday\n",
              "1      2021-10-31  RASCALS                      Mischief-makers      Sunday\n",
              "2      2021-10-31      PEN          It might click for a writer      Sunday\n",
              "3      2021-10-31      SEP                             Fall mo.      Sunday\n",
              "4      2021-10-31      ECO                Kind to Mother Nature      Sunday\n",
              "...           ...      ...                                  ...         ...\n",
              "781568 1993-11-21      NAT                      Actor Pendleton      Sunday\n",
              "781569 1993-11-21    SHRED                                  Bit      Sunday\n",
              "781570 1993-11-21      NEA                       Teachers' org.      Sunday\n",
              "781571 1993-11-21      BEG                             Petition      Sunday\n",
              "781572 1993-11-21      SIS                          Family girl      Sunday\n",
              "\n",
              "[781573 rows x 4 columns]"
            ],
            "text/html": [
              "\n",
              "  <div id=\"df-460baa9a-7074-4c74-bd97-5484e19b5db4\">\n",
              "    <div class=\"colab-df-container\">\n",
              "      <div>\n",
              "<style scoped>\n",
              "    .dataframe tbody tr th:only-of-type {\n",
              "        vertical-align: middle;\n",
              "    }\n",
              "\n",
              "    .dataframe tbody tr th {\n",
              "        vertical-align: top;\n",
              "    }\n",
              "\n",
              "    .dataframe thead th {\n",
              "        text-align: right;\n",
              "    }\n",
              "</style>\n",
              "<table border=\"1\" class=\"dataframe\">\n",
              "  <thead>\n",
              "    <tr style=\"text-align: right;\">\n",
              "      <th></th>\n",
              "      <th>Date</th>\n",
              "      <th>Word</th>\n",
              "      <th>Clue</th>\n",
              "      <th>day_of_week</th>\n",
              "    </tr>\n",
              "  </thead>\n",
              "  <tbody>\n",
              "    <tr>\n",
              "      <th>0</th>\n",
              "      <td>2021-10-31</td>\n",
              "      <td>PAT</td>\n",
              "      <td>Action done while saying \"Good dog\"</td>\n",
              "      <td>Sunday</td>\n",
              "    </tr>\n",
              "    <tr>\n",
              "      <th>1</th>\n",
              "      <td>2021-10-31</td>\n",
              "      <td>RASCALS</td>\n",
              "      <td>Mischief-makers</td>\n",
              "      <td>Sunday</td>\n",
              "    </tr>\n",
              "    <tr>\n",
              "      <th>2</th>\n",
              "      <td>2021-10-31</td>\n",
              "      <td>PEN</td>\n",
              "      <td>It might click for a writer</td>\n",
              "      <td>Sunday</td>\n",
              "    </tr>\n",
              "    <tr>\n",
              "      <th>3</th>\n",
              "      <td>2021-10-31</td>\n",
              "      <td>SEP</td>\n",
              "      <td>Fall mo.</td>\n",
              "      <td>Sunday</td>\n",
              "    </tr>\n",
              "    <tr>\n",
              "      <th>4</th>\n",
              "      <td>2021-10-31</td>\n",
              "      <td>ECO</td>\n",
              "      <td>Kind to Mother Nature</td>\n",
              "      <td>Sunday</td>\n",
              "    </tr>\n",
              "    <tr>\n",
              "      <th>...</th>\n",
              "      <td>...</td>\n",
              "      <td>...</td>\n",
              "      <td>...</td>\n",
              "      <td>...</td>\n",
              "    </tr>\n",
              "    <tr>\n",
              "      <th>781568</th>\n",
              "      <td>1993-11-21</td>\n",
              "      <td>NAT</td>\n",
              "      <td>Actor Pendleton</td>\n",
              "      <td>Sunday</td>\n",
              "    </tr>\n",
              "    <tr>\n",
              "      <th>781569</th>\n",
              "      <td>1993-11-21</td>\n",
              "      <td>SHRED</td>\n",
              "      <td>Bit</td>\n",
              "      <td>Sunday</td>\n",
              "    </tr>\n",
              "    <tr>\n",
              "      <th>781570</th>\n",
              "      <td>1993-11-21</td>\n",
              "      <td>NEA</td>\n",
              "      <td>Teachers' org.</td>\n",
              "      <td>Sunday</td>\n",
              "    </tr>\n",
              "    <tr>\n",
              "      <th>781571</th>\n",
              "      <td>1993-11-21</td>\n",
              "      <td>BEG</td>\n",
              "      <td>Petition</td>\n",
              "      <td>Sunday</td>\n",
              "    </tr>\n",
              "    <tr>\n",
              "      <th>781572</th>\n",
              "      <td>1993-11-21</td>\n",
              "      <td>SIS</td>\n",
              "      <td>Family girl</td>\n",
              "      <td>Sunday</td>\n",
              "    </tr>\n",
              "  </tbody>\n",
              "</table>\n",
              "<p>781573 rows × 4 columns</p>\n",
              "</div>\n",
              "      <button class=\"colab-df-convert\" onclick=\"convertToInteractive('df-460baa9a-7074-4c74-bd97-5484e19b5db4')\"\n",
              "              title=\"Convert this dataframe to an interactive table.\"\n",
              "              style=\"display:none;\">\n",
              "        \n",
              "  <svg xmlns=\"http://www.w3.org/2000/svg\" height=\"24px\"viewBox=\"0 0 24 24\"\n",
              "       width=\"24px\">\n",
              "    <path d=\"M0 0h24v24H0V0z\" fill=\"none\"/>\n",
              "    <path d=\"M18.56 5.44l.94 2.06.94-2.06 2.06-.94-2.06-.94-.94-2.06-.94 2.06-2.06.94zm-11 1L8.5 8.5l.94-2.06 2.06-.94-2.06-.94L8.5 2.5l-.94 2.06-2.06.94zm10 10l.94 2.06.94-2.06 2.06-.94-2.06-.94-.94-2.06-.94 2.06-2.06.94z\"/><path d=\"M17.41 7.96l-1.37-1.37c-.4-.4-.92-.59-1.43-.59-.52 0-1.04.2-1.43.59L10.3 9.45l-7.72 7.72c-.78.78-.78 2.05 0 2.83L4 21.41c.39.39.9.59 1.41.59.51 0 1.02-.2 1.41-.59l7.78-7.78 2.81-2.81c.8-.78.8-2.07 0-2.86zM5.41 20L4 18.59l7.72-7.72 1.47 1.35L5.41 20z\"/>\n",
              "  </svg>\n",
              "      </button>\n",
              "      \n",
              "  <style>\n",
              "    .colab-df-container {\n",
              "      display:flex;\n",
              "      flex-wrap:wrap;\n",
              "      gap: 12px;\n",
              "    }\n",
              "\n",
              "    .colab-df-convert {\n",
              "      background-color: #E8F0FE;\n",
              "      border: none;\n",
              "      border-radius: 50%;\n",
              "      cursor: pointer;\n",
              "      display: none;\n",
              "      fill: #1967D2;\n",
              "      height: 32px;\n",
              "      padding: 0 0 0 0;\n",
              "      width: 32px;\n",
              "    }\n",
              "\n",
              "    .colab-df-convert:hover {\n",
              "      background-color: #E2EBFA;\n",
              "      box-shadow: 0px 1px 2px rgba(60, 64, 67, 0.3), 0px 1px 3px 1px rgba(60, 64, 67, 0.15);\n",
              "      fill: #174EA6;\n",
              "    }\n",
              "\n",
              "    [theme=dark] .colab-df-convert {\n",
              "      background-color: #3B4455;\n",
              "      fill: #D2E3FC;\n",
              "    }\n",
              "\n",
              "    [theme=dark] .colab-df-convert:hover {\n",
              "      background-color: #434B5C;\n",
              "      box-shadow: 0px 1px 3px 1px rgba(0, 0, 0, 0.15);\n",
              "      filter: drop-shadow(0px 1px 2px rgba(0, 0, 0, 0.3));\n",
              "      fill: #FFFFFF;\n",
              "    }\n",
              "  </style>\n",
              "\n",
              "      <script>\n",
              "        const buttonEl =\n",
              "          document.querySelector('#df-460baa9a-7074-4c74-bd97-5484e19b5db4 button.colab-df-convert');\n",
              "        buttonEl.style.display =\n",
              "          google.colab.kernel.accessAllowed ? 'block' : 'none';\n",
              "\n",
              "        async function convertToInteractive(key) {\n",
              "          const element = document.querySelector('#df-460baa9a-7074-4c74-bd97-5484e19b5db4');\n",
              "          const dataTable =\n",
              "            await google.colab.kernel.invokeFunction('convertToInteractive',\n",
              "                                                     [key], {});\n",
              "          if (!dataTable) return;\n",
              "\n",
              "          const docLinkHtml = 'Like what you see? Visit the ' +\n",
              "            '<a target=\"_blank\" href=https://colab.research.google.com/notebooks/data_table.ipynb>data table notebook</a>'\n",
              "            + ' to learn more about interactive tables.';\n",
              "          element.innerHTML = '';\n",
              "          dataTable['output_type'] = 'display_data';\n",
              "          await google.colab.output.renderOutput(dataTable, element);\n",
              "          const docLink = document.createElement('div');\n",
              "          docLink.innerHTML = docLinkHtml;\n",
              "          element.appendChild(docLink);\n",
              "        }\n",
              "      </script>\n",
              "    </div>\n",
              "  </div>\n",
              "  "
            ]
          },
          "metadata": {},
          "execution_count": 6
        }
      ]
    },
    {
      "cell_type": "markdown",
      "source": [
        "# Statistics about days of week"
      ],
      "metadata": {
        "id": "qJbH4UgQFRS2"
      }
    },
    {
      "cell_type": "markdown",
      "source": [
        "The Saturday crossword is actually the hardest puzzle of the week. Mondays have the most straightforward clues and Saturday clues are the hardest, or involve the most wordplay. Contrary to popular belief, the Sunday puzzles are midweek difficulty, not the hardest. They’re just bigger.\n",
        "[Article about the difficulty](https://www.nytimes.com/guides/crosswords/how-to-solve-a-crossword-puzzle)"
      ],
      "metadata": {
        "id": "B2I8okqjFlsE"
      }
    },
    {
      "cell_type": "code",
      "source": [
        "days_week_dict = {d:nyt_df[nyt_df['day_of_week'].apply(lambda x: x == d)].shape[0] for d in set(nyt_df['day_of_week'])}"
      ],
      "metadata": {
        "id": "Wxfumqr_FF-j"
      },
      "execution_count": 7,
      "outputs": []
    },
    {
      "cell_type": "code",
      "source": [
        "plt.figure(figsize = (10,5))\n",
        "plt.bar([i for i in range(len(days_week_dict.keys()))],days_week_dict.values())\n",
        "plt.title('Days of week histogram count')\n",
        "plt.ylabel('Count for day')\n",
        "plt.xlabel('Day')\n",
        "plt.xticks([i for i in range(len(days_week_dict.keys()))],list(days_week_dict.keys()))\n",
        "plt.show()"
      ],
      "metadata": {
        "colab": {
          "base_uri": "https://localhost:8080/",
          "height": 350
        },
        "id": "wT3ABlbYFByu",
        "outputId": "cef1c954-80df-4641-ba00-4f549e560e36"
      },
      "execution_count": 8,
      "outputs": [
        {
          "output_type": "display_data",
          "data": {
            "text/plain": [
              "<Figure size 720x360 with 1 Axes>"
            ],
            "image/png": "[encoded data removed]"
          },
          "metadata": {
            "needs_background": "light"
          }
        }
      ]
    },
    {
      "cell_type": "code",
      "source": [
        "np.sum([v for v in days_week_dict.values()])"
      ],
      "metadata": {
        "colab": {
          "base_uri": "https://localhost:8080/"
        },
        "id": "tfdjV4a3H6vk",
        "outputId": "f0834b71-fb2e-4896-cf70-4b1344f27bd0"
      },
      "execution_count": 9,
      "outputs": [
        {
          "output_type": "execute_result",
          "data": {
            "text/plain": [
              "781573"
            ]
          },
          "metadata": {},
          "execution_count": 9
        }
      ]
    },
    {
      "cell_type": "code",
      "source": [
        "days = ['Sunday','Monday','Tuesday','Wednesday','Thursday','Friday','Saturday']\n",
        "total = np.sum([v for v in days_week_dict.values()])\n",
        "for d in days:\n",
        "  print(d,' Values is ',days_week_dict[d],' Which in proportion to other days is: ',round(days_week_dict[d]/total,3))"
      ],
      "metadata": {
        "colab": {
          "base_uri": "https://localhost:8080/"
        },
        "id": "PspwVC5tF_Rs",
        "outputId": "1a4ba94a-691e-4d0a-a069-a46ca9bfd352"
      },
      "execution_count": 10,
      "outputs": [
        {
          "output_type": "stream",
          "name": "stdout",
          "text": [
            "Sunday  Values is  185922  Which in proportion to other days is:  0.238\n",
            "Monday  Values is  106971  Which in proportion to other days is:  0.137\n",
            "Tuesday  Values is  105562  Which in proportion to other days is:  0.135\n",
            "Wednesday  Values is  103910  Which in proportion to other days is:  0.133\n",
            "Thursday  Values is  100480  Which in proportion to other days is:  0.129\n",
            "Friday  Values is  90534  Which in proportion to other days is:  0.116\n",
            "Saturday  Values is  88194  Which in proportion to other days is:  0.113\n"
          ]
        }
      ]
    },
    {
      "cell_type": "markdown",
      "source": [
        "**Lets check the years range and simple statistics**"
      ],
      "metadata": {
        "id": "BlV_E38fF7Dn"
      }
    },
    {
      "cell_type": "code",
      "source": [
        "nyt_df['year'] = nyt_df['Date'].apply(lambda x: x.year)"
      ],
      "metadata": {
        "id": "kG7JDgAWJuRy"
      },
      "execution_count": 11,
      "outputs": []
    },
    {
      "cell_type": "code",
      "source": [
        "nyt_df"
      ],
      "metadata": {
        "colab": {
          "base_uri": "https://localhost:8080/",
          "height": 423
        },
        "id": "KFuBDpOfJ5TH",
        "outputId": "11b0ed69-36a1-4589-8be8-dd445bae2425"
      },
      "execution_count": 12,
      "outputs": [
        {
          "output_type": "execute_result",
          "data": {
            "text/plain": [
              "             Date     Word                                 Clue day_of_week  \\\n",
              "0      2021-10-31      PAT  Action done while saying \"Good dog\"      Sunday   \n",
              "1      2021-10-31  RASCALS                      Mischief-makers      Sunday   \n",
              "2      2021-10-31      PEN          It might click for a writer      Sunday   \n",
              "3      2021-10-31      SEP                             Fall mo.      Sunday   \n",
              "4      2021-10-31      ECO                Kind to Mother Nature      Sunday   \n",
              "...           ...      ...                                  ...         ...   \n",
              "781568 1993-11-21      NAT                      Actor Pendleton      Sunday   \n",
              "781569 1993-11-21    SHRED                                  Bit      Sunday   \n",
              "781570 1993-11-21      NEA                       Teachers' org.      Sunday   \n",
              "781571 1993-11-21      BEG                             Petition      Sunday   \n",
              "781572 1993-11-21      SIS                          Family girl      Sunday   \n",
              "\n",
              "        year  \n",
              "0       2021  \n",
              "1       2021  \n",
              "2       2021  \n",
              "3       2021  \n",
              "4       2021  \n",
              "...      ...  \n",
              "781568  1993  \n",
              "781569  1993  \n",
              "781570  1993  \n",
              "781571  1993  \n",
              "781572  1993  \n",
              "\n",
              "[781573 rows x 5 columns]"
            ],
            "text/html": [
              "\n",
              "  <div id=\"df-cba4b78e-8ceb-475b-b2d7-c379c8af9249\">\n",
              "    <div class=\"colab-df-container\">\n",
              "      <div>\n",
              "<style scoped>\n",
              "    .dataframe tbody tr th:only-of-type {\n",
              "        vertical-align: middle;\n",
              "    }\n",
              "\n",
              "    .dataframe tbody tr th {\n",
              "        vertical-align: top;\n",
              "    }\n",
              "\n",
              "    .dataframe thead th {\n",
              "        text-align: right;\n",
              "    }\n",
              "</style>\n",
              "<table border=\"1\" class=\"dataframe\">\n",
              "  <thead>\n",
              "    <tr style=\"text-align: right;\">\n",
              "      <th></th>\n",
              "      <th>Date</th>\n",
              "      <th>Word</th>\n",
              "      <th>Clue</th>\n",
              "      <th>day_of_week</th>\n",
              "      <th>year</th>\n",
              "    </tr>\n",
              "  </thead>\n",
              "  <tbody>\n",
              "    <tr>\n",
              "      <th>0</th>\n",
              "      <td>2021-10-31</td>\n",
              "      <td>PAT</td>\n",
              "      <td>Action done while saying \"Good dog\"</td>\n",
              "      <td>Sunday</td>\n",
              "      <td>2021</td>\n",
              "    </tr>\n",
              "    <tr>\n",
              "      <th>1</th>\n",
              "      <td>2021-10-31</td>\n",
              "      <td>RASCALS</td>\n",
              "      <td>Mischief-makers</td>\n",
              "      <td>Sunday</td>\n",
              "      <td>2021</td>\n",
              "    </tr>\n",
              "    <tr>\n",
              "      <th>2</th>\n",
              "      <td>2021-10-31</td>\n",
              "      <td>PEN</td>\n",
              "      <td>It might click for a writer</td>\n",
              "      <td>Sunday</td>\n",
              "      <td>2021</td>\n",
              "    </tr>\n",
              "    <tr>\n",
              "      <th>3</th>\n",
              "      <td>2021-10-31</td>\n",
              "      <td>SEP</td>\n",
              "      <td>Fall mo.</td>\n",
              "      <td>Sunday</td>\n",
              "      <td>2021</td>\n",
              "    </tr>\n",
              "    <tr>\n",
              "      <th>4</th>\n",
              "      <td>2021-10-31</td>\n",
              "      <td>ECO</td>\n",
              "      <td>Kind to Mother Nature</td>\n",
              "      <td>Sunday</td>\n",
              "      <td>2021</td>\n",
              "    </tr>\n",
              "    <tr>\n",
              "      <th>...</th>\n",
              "      <td>...</td>\n",
              "      <td>...</td>\n",
              "      <td>...</td>\n",
              "      <td>...</td>\n",
              "      <td>...</td>\n",
              "    </tr>\n",
              "    <tr>\n",
              "      <th>781568</th>\n",
              "      <td>1993-11-21</td>\n",
              "      <td>NAT</td>\n",
              "      <td>Actor Pendleton</td>\n",
              "      <td>Sunday</td>\n",
              "      <td>1993</td>\n",
              "    </tr>\n",
              "    <tr>\n",
              "      <th>781569</th>\n",
              "      <td>1993-11-21</td>\n",
              "      <td>SHRED</td>\n",
              "      <td>Bit</td>\n",
              "      <td>Sunday</td>\n",
              "      <td>1993</td>\n",
              "    </tr>\n",
              "    <tr>\n",
              "      <th>781570</th>\n",
              "      <td>1993-11-21</td>\n",
              "      <td>NEA</td>\n",
              "      <td>Teachers' org.</td>\n",
              "      <td>Sunday</td>\n",
              "      <td>1993</td>\n",
              "    </tr>\n",
              "    <tr>\n",
              "      <th>781571</th>\n",
              "      <td>1993-11-21</td>\n",
              "      <td>BEG</td>\n",
              "      <td>Petition</td>\n",
              "      <td>Sunday</td>\n",
              "      <td>1993</td>\n",
              "    </tr>\n",
              "    <tr>\n",
              "      <th>781572</th>\n",
              "      <td>1993-11-21</td>\n",
              "      <td>SIS</td>\n",
              "      <td>Family girl</td>\n",
              "      <td>Sunday</td>\n",
              "      <td>1993</td>\n",
              "    </tr>\n",
              "  </tbody>\n",
              "</table>\n",
              "<p>781573 rows × 5 columns</p>\n",
              "</div>\n",
              "      <button class=\"colab-df-convert\" onclick=\"convertToInteractive('df-cba4b78e-8ceb-475b-b2d7-c379c8af9249')\"\n",
              "              title=\"Convert this dataframe to an interactive table.\"\n",
              "              style=\"display:none;\">\n",
              "        \n",
              "  <svg xmlns=\"http://www.w3.org/2000/svg\" height=\"24px\"viewBox=\"0 0 24 24\"\n",
              "       width=\"24px\">\n",
              "    <path d=\"M0 0h24v24H0V0z\" fill=\"none\"/>\n",
              "    <path d=\"M18.56 5.44l.94 2.06.94-2.06 2.06-.94-2.06-.94-.94-2.06-.94 2.06-2.06.94zm-11 1L8.5 8.5l.94-2.06 2.06-.94-2.06-.94L8.5 2.5l-.94 2.06-2.06.94zm10 10l.94 2.06.94-2.06 2.06-.94-2.06-.94-.94-2.06-.94 2.06-2.06.94z\"/><path d=\"M17.41 7.96l-1.37-1.37c-.4-.4-.92-.59-1.43-.59-.52 0-1.04.2-1.43.59L10.3 9.45l-7.72 7.72c-.78.78-.78 2.05 0 2.83L4 21.41c.39.39.9.59 1.41.59.51 0 1.02-.2 1.41-.59l7.78-7.78 2.81-2.81c.8-.78.8-2.07 0-2.86zM5.41 20L4 18.59l7.72-7.72 1.47 1.35L5.41 20z\"/>\n",
              "  </svg>\n",
              "      </button>\n",
              "      \n",
              "  <style>\n",
              "    .colab-df-container {\n",
              "      display:flex;\n",
              "      flex-wrap:wrap;\n",
              "      gap: 12px;\n",
              "    }\n",
              "\n",
              "    .colab-df-convert {\n",
              "      background-color: #E8F0FE;\n",
              "      border: none;\n",
              "      border-radius: 50%;\n",
              "      cursor: pointer;\n",
              "      display: none;\n",
              "      fill: #1967D2;\n",
              "      height: 32px;\n",
              "      padding: 0 0 0 0;\n",
              "      width: 32px;\n",
              "    }\n",
              "\n",
              "    .colab-df-convert:hover {\n",
              "      background-color: #E2EBFA;\n",
              "      box-shadow: 0px 1px 2px rgba(60, 64, 67, 0.3), 0px 1px 3px 1px rgba(60, 64, 67, 0.15);\n",
              "      fill: #174EA6;\n",
              "    }\n",
              "\n",
              "    [theme=dark] .colab-df-convert {\n",
              "      background-color: #3B4455;\n",
              "      fill: #D2E3FC;\n",
              "    }\n",
              "\n",
              "    [theme=dark] .colab-df-convert:hover {\n",
              "      background-color: #434B5C;\n",
              "      box-shadow: 0px 1px 3px 1px rgba(0, 0, 0, 0.15);\n",
              "      filter: drop-shadow(0px 1px 2px rgba(0, 0, 0, 0.3));\n",
              "      fill: #FFFFFF;\n",
              "    }\n",
              "  </style>\n",
              "\n",
              "      <script>\n",
              "        const buttonEl =\n",
              "          document.querySelector('#df-cba4b78e-8ceb-475b-b2d7-c379c8af9249 button.colab-df-convert');\n",
              "        buttonEl.style.display =\n",
              "          google.colab.kernel.accessAllowed ? 'block' : 'none';\n",
              "\n",
              "        async function convertToInteractive(key) {\n",
              "          const element = document.querySelector('#df-cba4b78e-8ceb-475b-b2d7-c379c8af9249');\n",
              "          const dataTable =\n",
              "            await google.colab.kernel.invokeFunction('convertToInteractive',\n",
              "                                                     [key], {});\n",
              "          if (!dataTable) return;\n",
              "\n",
              "          const docLinkHtml = 'Like what you see? Visit the ' +\n",
              "            '<a target=\"_blank\" href=https://colab.research.google.com/notebooks/data_table.ipynb>data table notebook</a>'\n",
              "            + ' to learn more about interactive tables.';\n",
              "          element.innerHTML = '';\n",
              "          dataTable['output_type'] = 'display_data';\n",
              "          await google.colab.output.renderOutput(dataTable, element);\n",
              "          const docLink = document.createElement('div');\n",
              "          docLink.innerHTML = docLinkHtml;\n",
              "          element.appendChild(docLink);\n",
              "        }\n",
              "      </script>\n",
              "    </div>\n",
              "  </div>\n",
              "  "
            ]
          },
          "metadata": {},
          "execution_count": 12
        }
      ]
    },
    {
      "cell_type": "code",
      "source": [
        "years_dict = {}\n",
        "years = set([date.year for date in list(nyt_df['Date'])])\n",
        "years_dict = {year: nyt_df[nyt_df['year'] == year].shape[0] for year in years}"
      ],
      "metadata": {
        "id": "e3Od_FtEF_Cx"
      },
      "execution_count": 13,
      "outputs": []
    },
    {
      "cell_type": "code",
      "source": [
        "years_dict"
      ],
      "metadata": {
        "colab": {
          "base_uri": "https://localhost:8080/"
        },
        "id": "Df5G303CKCtj",
        "outputId": "fb9c4167-21bf-4c58-a71b-5126413db5a3"
      },
      "execution_count": 14,
      "outputs": [
        {
          "output_type": "execute_result",
          "data": {
            "text/plain": [
              "{1993: 3246,\n",
              " 1994: 27991,\n",
              " 1995: 27943,\n",
              " 1996: 27882,\n",
              " 1997: 27958,\n",
              " 1998: 28104,\n",
              " 1999: 28248,\n",
              " 2000: 28104,\n",
              " 2001: 27885,\n",
              " 2002: 27984,\n",
              " 2003: 28107,\n",
              " 2004: 28016,\n",
              " 2005: 27784,\n",
              " 2006: 28011,\n",
              " 2007: 27904,\n",
              " 2008: 28069,\n",
              " 2009: 28037,\n",
              " 2010: 27929,\n",
              " 2011: 27930,\n",
              " 2012: 27939,\n",
              " 2013: 27823,\n",
              " 2014: 27987,\n",
              " 2015: 27875,\n",
              " 2016: 27949,\n",
              " 2017: 27925,\n",
              " 2018: 27633,\n",
              " 2019: 27826,\n",
              " 2020: 28064,\n",
              " 2021: 23420}"
            ]
          },
          "metadata": {},
          "execution_count": 14
        }
      ]
    },
    {
      "cell_type": "code",
      "source": [
        "plt.figure(figsize = (20,10))\n",
        "plt.bar([i for i in range(len(years_dict.keys()))],years_dict.values())\n",
        "plt.title('Years in DF Histogram')\n",
        "plt.ylabel('Count for year')\n",
        "plt.xlabel('Year')\n",
        "plt.xticks([i for i in range(len(years_dict.keys()))],list(years_dict.keys()),rotation = 45)\n",
        "plt.show()"
      ],
      "metadata": {
        "colab": {
          "base_uri": "https://localhost:8080/",
          "height": 636
        },
        "id": "kpR-aiKAKG1O",
        "outputId": "5ab7940f-0a9e-42fc-c674-a855cc4c9e85"
      },
      "execution_count": 15,
      "outputs": [
        {
          "output_type": "display_data",
          "data": {
            "text/plain": [
              "<Figure size 1440x720 with 1 Axes>"
            ],
            "image/png": "[encoded data removed]"
          },
          "metadata": {
            "needs_background": "light"
          }
        }
      ]
    },
    {
      "cell_type": "markdown",
      "source": [
        "**We need to randomly split the sundays so there are as common as others**"
      ],
      "metadata": {
        "id": "nvK-hBYYFyu9"
      }
    },
    {
      "cell_type": "markdown",
      "source": [
        "We need to drop randomly about 10k Sundays entries , or about half of the Sunday enteries"
      ],
      "metadata": {
        "id": "SaPlou4QKe01"
      }
    },
    {
      "cell_type": "code",
      "source": [
        "nyt_df[nyt_df['day_of_week'] == 'Sunday'].shape[0] - round(nyt_df[nyt_df['day_of_week'] == 'Sunday'].shape[0]*0.45,0)"
      ],
      "metadata": {
        "colab": {
          "base_uri": "https://localhost:8080/"
        },
        "id": "pSQZTs_RFCEH",
        "outputId": "bc6d6366-c7b2-4d4e-d0d7-03b69e6beace"
      },
      "execution_count": 16,
      "outputs": [
        {
          "output_type": "execute_result",
          "data": {
            "text/plain": [
              "102257.0"
            ]
          },
          "metadata": {},
          "execution_count": 16
        }
      ]
    },
    {
      "cell_type": "code",
      "source": [
        "round(nyt_df[nyt_df['day_of_week'] == 'Sunday'].shape[0]*0.45,0)"
      ],
      "metadata": {
        "colab": {
          "base_uri": "https://localhost:8080/"
        },
        "id": "msWJx-BZLERJ",
        "outputId": "d48494ec-10e1-4ac4-d76f-3f925af3de5d"
      },
      "execution_count": 17,
      "outputs": [
        {
          "output_type": "execute_result",
          "data": {
            "text/plain": [
              "83665.0"
            ]
          },
          "metadata": {},
          "execution_count": 17
        }
      ]
    },
    {
      "cell_type": "markdown",
      "source": [
        "Lets drop say 45% of Sunday enteries , this this is about : 83664 enteries"
      ],
      "metadata": {
        "id": "tKOafxk7K7uD"
      }
    },
    {
      "cell_type": "code",
      "source": [
        "sundays_index_list = np.array(nyt_df[nyt_df['day_of_week'] == 'Sunday'].index)"
      ],
      "metadata": {
        "id": "U6BKU5tRJFkR"
      },
      "execution_count": 18,
      "outputs": []
    },
    {
      "cell_type": "code",
      "source": [
        "type(sundays_index_list)"
      ],
      "metadata": {
        "colab": {
          "base_uri": "https://localhost:8080/"
        },
        "id": "TRG3K6bRLPPp",
        "outputId": "34a96815-ba90-43b1-baa2-fb86223ec0c0"
      },
      "execution_count": 19,
      "outputs": [
        {
          "output_type": "execute_result",
          "data": {
            "text/plain": [
              "numpy.ndarray"
            ]
          },
          "metadata": {},
          "execution_count": 19
        }
      ]
    },
    {
      "cell_type": "code",
      "source": [
        "sundays_ids_to_drop = np.array(random.sample(set(sundays_index_list), 83664))\n",
        "sundays_ids_to_drop.shape"
      ],
      "metadata": {
        "colab": {
          "base_uri": "https://localhost:8080/"
        },
        "id": "tFGhXiBmLTb6",
        "outputId": "82d0a25f-7e4b-420d-cc03-81a7e9563f91"
      },
      "execution_count": 28,
      "outputs": [
        {
          "output_type": "execute_result",
          "data": {
            "text/plain": [
              "(83664,)"
            ]
          },
          "metadata": {},
          "execution_count": 28
        }
      ]
    },
    {
      "cell_type": "code",
      "source": [
        "sundays_ids_to_drop"
      ],
      "metadata": {
        "colab": {
          "base_uri": "https://localhost:8080/"
        },
        "id": "a4PLBJ0YLt1P",
        "outputId": "bda07b74-36d1-4af2-a4ec-2f3a9d3c2472"
      },
      "execution_count": 29,
      "outputs": [
        {
          "output_type": "execute_result",
          "data": {
            "text/plain": [
              "array([703280, 124054, 636063, ..., 164791, 343044, 302760])"
            ]
          },
          "metadata": {},
          "execution_count": 29
        }
      ]
    },
    {
      "cell_type": "code",
      "source": [
        "print('Lets check that after dup drop still has 83664 indexs to drop',len(set(sundays_ids_to_drop)))"
      ],
      "metadata": {
        "colab": {
          "base_uri": "https://localhost:8080/"
        },
        "id": "TqKHl66lMuNR",
        "outputId": "76a8716f-3f3e-4db7-f760-0ce2e474ac23"
      },
      "execution_count": 30,
      "outputs": [
        {
          "output_type": "stream",
          "name": "stdout",
          "text": [
            "Lets check that after dup drop still has 83664 indexs to drop 83664\n"
          ]
        }
      ]
    },
    {
      "cell_type": "code",
      "source": [
        "print('len of sundays ids to drop is ',len(sundays_ids_to_drop))"
      ],
      "metadata": {
        "colab": {
          "base_uri": "https://localhost:8080/"
        },
        "id": "zbTqrEp8MWM4",
        "outputId": "cec12a4c-6faa-44a3-d4eb-841297592356"
      },
      "execution_count": 31,
      "outputs": [
        {
          "output_type": "stream",
          "name": "stdout",
          "text": [
            "len of sundays ids to drop is  83664\n"
          ]
        }
      ]
    },
    {
      "cell_type": "code",
      "source": [
        "print('Total DF size before is',nyt_df.shape,'. Sundays enteries count is ',nyt_df[nyt_df['day_of_week'] == 'Sunday'].shape)"
      ],
      "metadata": {
        "colab": {
          "base_uri": "https://localhost:8080/"
        },
        "id": "Sl4PJYqRMFrt",
        "outputId": "b5cd3ff6-990d-4f86-eabf-30e947cc1370"
      },
      "execution_count": 32,
      "outputs": [
        {
          "output_type": "stream",
          "name": "stdout",
          "text": [
            "Total DF size before is (781573, 5) . Sundays enteries count is  (185922, 5)\n"
          ]
        }
      ]
    },
    {
      "cell_type": "code",
      "source": [
        "print('After we drop the enteries we should be left with',nyt_df[nyt_df['day_of_week'] == 'Sunday'].shape[0] - sundays_ids_to_drop.shape[0])"
      ],
      "metadata": {
        "colab": {
          "base_uri": "https://localhost:8080/"
        },
        "id": "_UxIoIDwODAy",
        "outputId": "02d38c78-a02b-49cc-9ed6-26396ac95104"
      },
      "execution_count": 33,
      "outputs": [
        {
          "output_type": "stream",
          "name": "stdout",
          "text": [
            "After we drop the enteries we should be left with 102258\n"
          ]
        }
      ]
    },
    {
      "cell_type": "code",
      "source": [
        "nyt_df.drop(index=sundays_ids_to_drop, inplace=True)"
      ],
      "metadata": {
        "id": "QJj2NB9wLvA-"
      },
      "execution_count": 34,
      "outputs": []
    },
    {
      "cell_type": "code",
      "source": [
        "print('Total DF size after is',nyt_df.shape,'. Sundays enteries count is ',nyt_df[nyt_df['day_of_week'] == 'Sunday'].shape)"
      ],
      "metadata": {
        "colab": {
          "base_uri": "https://localhost:8080/"
        },
        "id": "UQfHr8IgMpuB",
        "outputId": "eaae90b8-7278-4651-f70d-ff41dc692ea8"
      },
      "execution_count": 35,
      "outputs": [
        {
          "output_type": "stream",
          "name": "stdout",
          "text": [
            "Total DF size after is (697909, 5) . Sundays enteries count is  (102258, 5)\n"
          ]
        }
      ]
    },
    {
      "cell_type": "markdown",
      "source": [
        "Lets plot Days histogram once again"
      ],
      "metadata": {
        "id": "8iWmPTSNMr8K"
      }
    },
    {
      "cell_type": "code",
      "source": [
        "days_week_dict_balanced = {d:nyt_df[nyt_df['day_of_week'].apply(lambda x: x == d)].shape[0] for d in set(nyt_df['day_of_week'])}"
      ],
      "metadata": {
        "id": "sV8ZxWW6MpLz"
      },
      "execution_count": 36,
      "outputs": []
    },
    {
      "cell_type": "code",
      "source": [
        "plt.figure(figsize = (10,5))\n",
        "plt.bar([i for i in range(len(days_week_dict_balanced.keys()))],days_week_dict_balanced.values())\n",
        "plt.title('Days of week histogram count')\n",
        "plt.ylabel('Count for day')\n",
        "plt.xlabel('Day')\n",
        "plt.xticks([i for i in range(len(days_week_dict_balanced.keys()))],list(days_week_dict_balanced.keys()))\n",
        "plt.show()"
      ],
      "metadata": {
        "colab": {
          "base_uri": "https://localhost:8080/",
          "height": 350
        },
        "id": "8oqg1oleM2AM",
        "outputId": "bcb8005d-80f0-4f58-a05c-26aca8b13ee2"
      },
      "execution_count": 37,
      "outputs": [
        {
          "output_type": "display_data",
          "data": {
            "text/plain": [
              "<Figure size 720x360 with 1 Axes>"
            ],
            "image/png": "[encoded data removed]"
          },
          "metadata": {
            "needs_background": "light"
          }
        }
      ]
    },
    {
      "cell_type": "markdown",
      "source": [
        "# Lets continue to further explore the DS"
      ],
      "metadata": {
        "id": "KCg3mCpKZapd"
      }
    },
    {
      "cell_type": "code",
      "source": [
        "nyt_balanced_df = pd.read_csv('/content/drive/MyDrive/NLP/Project/nytcrosswords_balanced_days.csv',parse_dates = ['Date'],encoding='ISO-8859-1')\n",
        "nyt_balanced_df"
      ],
      "metadata": {
        "id": "FW6UWPOpM5i7",
        "colab": {
          "base_uri": "https://localhost:8080/",
          "height": 423
        },
        "outputId": "7dbe2c50-9e5b-4ed0-c6a4-f298830cf0a1"
      },
      "execution_count": null,
      "outputs": [
        {
          "output_type": "execute_result",
          "data": {
            "text/plain": [
              "        Unnamed: 0       Date       Word  \\\n",
              "0                0 2021-10-31        PEN   \n",
              "1                1 2021-10-31        SEP   \n",
              "2                2 2021-10-31        ECO   \n",
              "3                3 2021-10-31    EMMYLOU   \n",
              "4                4 2021-10-31  HITORMISS   \n",
              "...            ...        ...        ...   \n",
              "689696      689696 1993-11-21       DOZE   \n",
              "689697      689697 1993-11-21        ACE   \n",
              "689698      689698 1993-11-21        NAT   \n",
              "689699      689699 1993-11-21        NEA   \n",
              "689700      689700 1993-11-21        BEG   \n",
              "\n",
              "                                            Clue day_of_week  year  \n",
              "0                    It might click for a writer      Sunday  2021  \n",
              "1                                       Fall mo.      Sunday  2021  \n",
              "2                          Kind to Mother Nature      Sunday  2021  \n",
              "3       Harris in the Country Music Hall of Fame      Sunday  2021  \n",
              "4                                      Haphazard      Sunday  2021  \n",
              "...                                          ...         ...   ...  \n",
              "689696                                       Nap      Sunday  1993  \n",
              "689697                           King's superior      Sunday  1993  \n",
              "689698                           Actor Pendleton      Sunday  1993  \n",
              "689699                            Teachers' org.      Sunday  1993  \n",
              "689700                                  Petition      Sunday  1993  \n",
              "\n",
              "[689701 rows x 6 columns]"
            ],
            "text/html": [
              "\n",
              "  <div id=\"df-84aca743-55bc-4963-bd67-b4949e595173\">\n",
              "    <div class=\"colab-df-container\">\n",
              "      <div>\n",
              "<style scoped>\n",
              "    .dataframe tbody tr th:only-of-type {\n",
              "        vertical-align: middle;\n",
              "    }\n",
              "\n",
              "    .dataframe tbody tr th {\n",
              "        vertical-align: top;\n",
              "    }\n",
              "\n",
              "    .dataframe thead th {\n",
              "        text-align: right;\n",
              "    }\n",
              "</style>\n",
              "<table border=\"1\" class=\"dataframe\">\n",
              "  <thead>\n",
              "    <tr style=\"text-align: right;\">\n",
              "      <th></th>\n",
              "      <th>Unnamed: 0</th>\n",
              "      <th>Date</th>\n",
              "      <th>Word</th>\n",
              "      <th>Clue</th>\n",
              "      <th>day_of_week</th>\n",
              "      <th>year</th>\n",
              "    </tr>\n",
              "  </thead>\n",
              "  <tbody>\n",
              "    <tr>\n",
              "      <th>0</th>\n",
              "      <td>0</td>\n",
              "      <td>2021-10-31</td>\n",
              "      <td>PEN</td>\n",
              "      <td>It might click for a writer</td>\n",
              "      <td>Sunday</td>\n",
              "      <td>2021</td>\n",
              "    </tr>\n",
              "    <tr>\n",
              "      <th>1</th>\n",
              "      <td>1</td>\n",
              "      <td>2021-10-31</td>\n",
              "      <td>SEP</td>\n",
              "      <td>Fall mo.</td>\n",
              "      <td>Sunday</td>\n",
              "      <td>2021</td>\n",
              "    </tr>\n",
              "    <tr>\n",
              "      <th>2</th>\n",
              "      <td>2</td>\n",
              "      <td>2021-10-31</td>\n",
              "      <td>ECO</td>\n",
              "      <td>Kind to Mother Nature</td>\n",
              "      <td>Sunday</td>\n",
              "      <td>2021</td>\n",
              "    </tr>\n",
              "    <tr>\n",
              "      <th>3</th>\n",
              "      <td>3</td>\n",
              "      <td>2021-10-31</td>\n",
              "      <td>EMMYLOU</td>\n",
              "      <td>Harris in the Country Music Hall of Fame</td>\n",
              "      <td>Sunday</td>\n",
              "      <td>2021</td>\n",
              "    </tr>\n",
              "    <tr>\n",
              "      <th>4</th>\n",
              "      <td>4</td>\n",
              "      <td>2021-10-31</td>\n",
              "      <td>HITORMISS</td>\n",
              "      <td>Haphazard</td>\n",
              "      <td>Sunday</td>\n",
              "      <td>2021</td>\n",
              "    </tr>\n",
              "    <tr>\n",
              "      <th>...</th>\n",
              "      <td>...</td>\n",
              "      <td>...</td>\n",
              "      <td>...</td>\n",
              "      <td>...</td>\n",
              "      <td>...</td>\n",
              "      <td>...</td>\n",
              "    </tr>\n",
              "    <tr>\n",
              "      <th>689696</th>\n",
              "      <td>689696</td>\n",
              "      <td>1993-11-21</td>\n",
              "      <td>DOZE</td>\n",
              "      <td>Nap</td>\n",
              "      <td>Sunday</td>\n",
              "      <td>1993</td>\n",
              "    </tr>\n",
              "    <tr>\n",
              "      <th>689697</th>\n",
              "      <td>689697</td>\n",
              "      <td>1993-11-21</td>\n",
              "      <td>ACE</td>\n",
              "      <td>King's superior</td>\n",
              "      <td>Sunday</td>\n",
              "      <td>1993</td>\n",
              "    </tr>\n",
              "    <tr>\n",
              "      <th>689698</th>\n",
              "      <td>689698</td>\n",
              "      <td>1993-11-21</td>\n",
              "      <td>NAT</td>\n",
              "      <td>Actor Pendleton</td>\n",
              "      <td>Sunday</td>\n",
              "      <td>1993</td>\n",
              "    </tr>\n",
              "    <tr>\n",
              "      <th>689699</th>\n",
              "      <td>689699</td>\n",
              "      <td>1993-11-21</td>\n",
              "      <td>NEA</td>\n",
              "      <td>Teachers' org.</td>\n",
              "      <td>Sunday</td>\n",
              "      <td>1993</td>\n",
              "    </tr>\n",
              "    <tr>\n",
              "      <th>689700</th>\n",
              "      <td>689700</td>\n",
              "      <td>1993-11-21</td>\n",
              "      <td>BEG</td>\n",
              "      <td>Petition</td>\n",
              "      <td>Sunday</td>\n",
              "      <td>1993</td>\n",
              "    </tr>\n",
              "  </tbody>\n",
              "</table>\n",
              "<p>689701 rows × 6 columns</p>\n",
              "</div>\n",
              "      <button class=\"colab-df-convert\" onclick=\"convertToInteractive('df-84aca743-55bc-4963-bd67-b4949e595173')\"\n",
              "              title=\"Convert this dataframe to an interactive table.\"\n",
              "              style=\"display:none;\">\n",
              "        \n",
              "  <svg xmlns=\"http://www.w3.org/2000/svg\" height=\"24px\"viewBox=\"0 0 24 24\"\n",
              "       width=\"24px\">\n",
              "    <path d=\"M0 0h24v24H0V0z\" fill=\"none\"/>\n",
              "    <path d=\"M18.56 5.44l.94 2.06.94-2.06 2.06-.94-2.06-.94-.94-2.06-.94 2.06-2.06.94zm-11 1L8.5 8.5l.94-2.06 2.06-.94-2.06-.94L8.5 2.5l-.94 2.06-2.06.94zm10 10l.94 2.06.94-2.06 2.06-.94-2.06-.94-.94-2.06-.94 2.06-2.06.94z\"/><path d=\"M17.41 7.96l-1.37-1.37c-.4-.4-.92-.59-1.43-.59-.52 0-1.04.2-1.43.59L10.3 9.45l-7.72 7.72c-.78.78-.78 2.05 0 2.83L4 21.41c.39.39.9.59 1.41.59.51 0 1.02-.2 1.41-.59l7.78-7.78 2.81-2.81c.8-.78.8-2.07 0-2.86zM5.41 20L4 18.59l7.72-7.72 1.47 1.35L5.41 20z\"/>\n",
              "  </svg>\n",
              "      </button>\n",
              "      \n",
              "  <style>\n",
              "    .colab-df-container {\n",
              "      display:flex;\n",
              "      flex-wrap:wrap;\n",
              "      gap: 12px;\n",
              "    }\n",
              "\n",
              "    .colab-df-convert {\n",
              "      background-color: #E8F0FE;\n",
              "      border: none;\n",
              "      border-radius: 50%;\n",
              "      cursor: pointer;\n",
              "      display: none;\n",
              "      fill: #1967D2;\n",
              "      height: 32px;\n",
              "      padding: 0 0 0 0;\n",
              "      width: 32px;\n",
              "    }\n",
              "\n",
              "    .colab-df-convert:hover {\n",
              "      background-color: #E2EBFA;\n",
              "      box-shadow: 0px 1px 2px rgba(60, 64, 67, 0.3), 0px 1px 3px 1px rgba(60, 64, 67, 0.15);\n",
              "      fill: #174EA6;\n",
              "    }\n",
              "\n",
              "    [theme=dark] .colab-df-convert {\n",
              "      background-color: #3B4455;\n",
              "      fill: #D2E3FC;\n",
              "    }\n",
              "\n",
              "    [theme=dark] .colab-df-convert:hover {\n",
              "      background-color: #434B5C;\n",
              "      box-shadow: 0px 1px 3px 1px rgba(0, 0, 0, 0.15);\n",
              "      filter: drop-shadow(0px 1px 2px rgba(0, 0, 0, 0.3));\n",
              "      fill: #FFFFFF;\n",
              "    }\n",
              "  </style>\n",
              "\n",
              "      <script>\n",
              "        const buttonEl =\n",
              "          document.querySelector('#df-84aca743-55bc-4963-bd67-b4949e595173 button.colab-df-convert');\n",
              "        buttonEl.style.display =\n",
              "          google.colab.kernel.accessAllowed ? 'block' : 'none';\n",
              "\n",
              "        async function convertToInteractive(key) {\n",
              "          const element = document.querySelector('#df-84aca743-55bc-4963-bd67-b4949e595173');\n",
              "          const dataTable =\n",
              "            await google.colab.kernel.invokeFunction('convertToInteractive',\n",
              "                                                     [key], {});\n",
              "          if (!dataTable) return;\n",
              "\n",
              "          const docLinkHtml = 'Like what you see? Visit the ' +\n",
              "            '<a target=\"_blank\" href=https://colab.research.google.com/notebooks/data_table.ipynb>data table notebook</a>'\n",
              "            + ' to learn more about interactive tables.';\n",
              "          element.innerHTML = '';\n",
              "          dataTable['output_type'] = 'display_data';\n",
              "          await google.colab.output.renderOutput(dataTable, element);\n",
              "          const docLink = document.createElement('div');\n",
              "          docLink.innerHTML = docLinkHtml;\n",
              "          element.appendChild(docLink);\n",
              "        }\n",
              "      </script>\n",
              "    </div>\n",
              "  </div>\n",
              "  "
            ]
          },
          "metadata": {},
          "execution_count": 2
        }
      ]
    },
    {
      "cell_type": "code",
      "source": [
        "nyt_balanced_df.drop(columns = ['Unnamed: 0'],inplace = True)\n",
        "nyt_balanced_df"
      ],
      "metadata": {
        "colab": {
          "base_uri": "https://localhost:8080/",
          "height": 423
        },
        "id": "Q71jB1h-gG0x",
        "outputId": "414f6c87-9067-4dbb-ccd7-abae461279c1"
      },
      "execution_count": null,
      "outputs": [
        {
          "output_type": "execute_result",
          "data": {
            "text/plain": [
              "             Date       Word                                      Clue  \\\n",
              "0      2021-10-31        PEN               It might click for a writer   \n",
              "1      2021-10-31        SEP                                  Fall mo.   \n",
              "2      2021-10-31        ECO                     Kind to Mother Nature   \n",
              "3      2021-10-31    EMMYLOU  Harris in the Country Music Hall of Fame   \n",
              "4      2021-10-31  HITORMISS                                 Haphazard   \n",
              "...           ...        ...                                       ...   \n",
              "689696 1993-11-21       DOZE                                       Nap   \n",
              "689697 1993-11-21        ACE                           King's superior   \n",
              "689698 1993-11-21        NAT                           Actor Pendleton   \n",
              "689699 1993-11-21        NEA                            Teachers' org.   \n",
              "689700 1993-11-21        BEG                                  Petition   \n",
              "\n",
              "       day_of_week  year  \n",
              "0           Sunday  2021  \n",
              "1           Sunday  2021  \n",
              "2           Sunday  2021  \n",
              "3           Sunday  2021  \n",
              "4           Sunday  2021  \n",
              "...            ...   ...  \n",
              "689696      Sunday  1993  \n",
              "689697      Sunday  1993  \n",
              "689698      Sunday  1993  \n",
              "689699      Sunday  1993  \n",
              "689700      Sunday  1993  \n",
              "\n",
              "[689701 rows x 5 columns]"
            ],
            "text/html": [
              "\n",
              "  <div id=\"df-b41ad4a8-b1a1-4e10-b28f-ccb134eb16f6\">\n",
              "    <div class=\"colab-df-container\">\n",
              "      <div>\n",
              "<style scoped>\n",
              "    .dataframe tbody tr th:only-of-type {\n",
              "        vertical-align: middle;\n",
              "    }\n",
              "\n",
              "    .dataframe tbody tr th {\n",
              "        vertical-align: top;\n",
              "    }\n",
              "\n",
              "    .dataframe thead th {\n",
              "        text-align: right;\n",
              "    }\n",
              "</style>\n",
              "<table border=\"1\" class=\"dataframe\">\n",
              "  <thead>\n",
              "    <tr style=\"text-align: right;\">\n",
              "      <th></th>\n",
              "      <th>Date</th>\n",
              "      <th>Word</th>\n",
              "      <th>Clue</th>\n",
              "      <th>day_of_week</th>\n",
              "      <th>year</th>\n",
              "    </tr>\n",
              "  </thead>\n",
              "  <tbody>\n",
              "    <tr>\n",
              "      <th>0</th>\n",
              "      <td>2021-10-31</td>\n",
              "      <td>PEN</td>\n",
              "      <td>It might click for a writer</td>\n",
              "      <td>Sunday</td>\n",
              "      <td>2021</td>\n",
              "    </tr>\n",
              "    <tr>\n",
              "      <th>1</th>\n",
              "      <td>2021-10-31</td>\n",
              "      <td>SEP</td>\n",
              "      <td>Fall mo.</td>\n",
              "      <td>Sunday</td>\n",
              "      <td>2021</td>\n",
              "    </tr>\n",
              "    <tr>\n",
              "      <th>2</th>\n",
              "      <td>2021-10-31</td>\n",
              "      <td>ECO</td>\n",
              "      <td>Kind to Mother Nature</td>\n",
              "      <td>Sunday</td>\n",
              "      <td>2021</td>\n",
              "    </tr>\n",
              "    <tr>\n",
              "      <th>3</th>\n",
              "      <td>2021-10-31</td>\n",
              "      <td>EMMYLOU</td>\n",
              "      <td>Harris in the Country Music Hall of Fame</td>\n",
              "      <td>Sunday</td>\n",
              "      <td>2021</td>\n",
              "    </tr>\n",
              "    <tr>\n",
              "      <th>4</th>\n",
              "      <td>2021-10-31</td>\n",
              "      <td>HITORMISS</td>\n",
              "      <td>Haphazard</td>\n",
              "      <td>Sunday</td>\n",
              "      <td>2021</td>\n",
              "    </tr>\n",
              "    <tr>\n",
              "      <th>...</th>\n",
              "      <td>...</td>\n",
              "      <td>...</td>\n",
              "      <td>...</td>\n",
              "      <td>...</td>\n",
              "      <td>...</td>\n",
              "    </tr>\n",
              "    <tr>\n",
              "      <th>689696</th>\n",
              "      <td>1993-11-21</td>\n",
              "      <td>DOZE</td>\n",
              "      <td>Nap</td>\n",
              "      <td>Sunday</td>\n",
              "      <td>1993</td>\n",
              "    </tr>\n",
              "    <tr>\n",
              "      <th>689697</th>\n",
              "      <td>1993-11-21</td>\n",
              "      <td>ACE</td>\n",
              "      <td>King's superior</td>\n",
              "      <td>Sunday</td>\n",
              "      <td>1993</td>\n",
              "    </tr>\n",
              "    <tr>\n",
              "      <th>689698</th>\n",
              "      <td>1993-11-21</td>\n",
              "      <td>NAT</td>\n",
              "      <td>Actor Pendleton</td>\n",
              "      <td>Sunday</td>\n",
              "      <td>1993</td>\n",
              "    </tr>\n",
              "    <tr>\n",
              "      <th>689699</th>\n",
              "      <td>1993-11-21</td>\n",
              "      <td>NEA</td>\n",
              "      <td>Teachers' org.</td>\n",
              "      <td>Sunday</td>\n",
              "      <td>1993</td>\n",
              "    </tr>\n",
              "    <tr>\n",
              "      <th>689700</th>\n",
              "      <td>1993-11-21</td>\n",
              "      <td>BEG</td>\n",
              "      <td>Petition</td>\n",
              "      <td>Sunday</td>\n",
              "      <td>1993</td>\n",
              "    </tr>\n",
              "  </tbody>\n",
              "</table>\n",
              "<p>689701 rows × 5 columns</p>\n",
              "</div>\n",
              "      <button class=\"colab-df-convert\" onclick=\"convertToInteractive('df-b41ad4a8-b1a1-4e10-b28f-ccb134eb16f6')\"\n",
              "              title=\"Convert this dataframe to an interactive table.\"\n",
              "              style=\"display:none;\">\n",
              "        \n",
              "  <svg xmlns=\"http://www.w3.org/2000/svg\" height=\"24px\"viewBox=\"0 0 24 24\"\n",
              "       width=\"24px\">\n",
              "    <path d=\"M0 0h24v24H0V0z\" fill=\"none\"/>\n",
              "    <path d=\"M18.56 5.44l.94 2.06.94-2.06 2.06-.94-2.06-.94-.94-2.06-.94 2.06-2.06.94zm-11 1L8.5 8.5l.94-2.06 2.06-.94-2.06-.94L8.5 2.5l-.94 2.06-2.06.94zm10 10l.94 2.06.94-2.06 2.06-.94-2.06-.94-.94-2.06-.94 2.06-2.06.94z\"/><path d=\"M17.41 7.96l-1.37-1.37c-.4-.4-.92-.59-1.43-.59-.52 0-1.04.2-1.43.59L10.3 9.45l-7.72 7.72c-.78.78-.78 2.05 0 2.83L4 21.41c.39.39.9.59 1.41.59.51 0 1.02-.2 1.41-.59l7.78-7.78 2.81-2.81c.8-.78.8-2.07 0-2.86zM5.41 20L4 18.59l7.72-7.72 1.47 1.35L5.41 20z\"/>\n",
              "  </svg>\n",
              "      </button>\n",
              "      \n",
              "  <style>\n",
              "    .colab-df-container {\n",
              "      display:flex;\n",
              "      flex-wrap:wrap;\n",
              "      gap: 12px;\n",
              "    }\n",
              "\n",
              "    .colab-df-convert {\n",
              "      background-color: #E8F0FE;\n",
              "      border: none;\n",
              "      border-radius: 50%;\n",
              "      cursor: pointer;\n",
              "      display: none;\n",
              "      fill: #1967D2;\n",
              "      height: 32px;\n",
              "      padding: 0 0 0 0;\n",
              "      width: 32px;\n",
              "    }\n",
              "\n",
              "    .colab-df-convert:hover {\n",
              "      background-color: #E2EBFA;\n",
              "      box-shadow: 0px 1px 2px rgba(60, 64, 67, 0.3), 0px 1px 3px 1px rgba(60, 64, 67, 0.15);\n",
              "      fill: #174EA6;\n",
              "    }\n",
              "\n",
              "    [theme=dark] .colab-df-convert {\n",
              "      background-color: #3B4455;\n",
              "      fill: #D2E3FC;\n",
              "    }\n",
              "\n",
              "    [theme=dark] .colab-df-convert:hover {\n",
              "      background-color: #434B5C;\n",
              "      box-shadow: 0px 1px 3px 1px rgba(0, 0, 0, 0.15);\n",
              "      filter: drop-shadow(0px 1px 2px rgba(0, 0, 0, 0.3));\n",
              "      fill: #FFFFFF;\n",
              "    }\n",
              "  </style>\n",
              "\n",
              "      <script>\n",
              "        const buttonEl =\n",
              "          document.querySelector('#df-b41ad4a8-b1a1-4e10-b28f-ccb134eb16f6 button.colab-df-convert');\n",
              "        buttonEl.style.display =\n",
              "          google.colab.kernel.accessAllowed ? 'block' : 'none';\n",
              "\n",
              "        async function convertToInteractive(key) {\n",
              "          const element = document.querySelector('#df-b41ad4a8-b1a1-4e10-b28f-ccb134eb16f6');\n",
              "          const dataTable =\n",
              "            await google.colab.kernel.invokeFunction('convertToInteractive',\n",
              "                                                     [key], {});\n",
              "          if (!dataTable) return;\n",
              "\n",
              "          const docLinkHtml = 'Like what you see? Visit the ' +\n",
              "            '<a target=\"_blank\" href=https://colab.research.google.com/notebooks/data_table.ipynb>data table notebook</a>'\n",
              "            + ' to learn more about interactive tables.';\n",
              "          element.innerHTML = '';\n",
              "          dataTable['output_type'] = 'display_data';\n",
              "          await google.colab.output.renderOutput(dataTable, element);\n",
              "          const docLink = document.createElement('div');\n",
              "          docLink.innerHTML = docLinkHtml;\n",
              "          element.appendChild(docLink);\n",
              "        }\n",
              "      </script>\n",
              "    </div>\n",
              "  </div>\n",
              "  "
            ]
          },
          "metadata": {},
          "execution_count": 3
        }
      ]
    },
    {
      "cell_type": "code",
      "source": [
        "def generate_days_histogram(df):\n",
        "  days_week_dict = {d:df[df['day_of_week'].apply(lambda x: x == d)].shape[0] for d in set(df['day_of_week'])}\n",
        "  days = ['Sunday','Monday','Tuesday','Wednesday','Thursday','Friday','Saturday']\n",
        "  total = np.sum([v for v in days_week_dict.values()])\n",
        "  for d in days:\n",
        "    print(d,' Values is ',days_week_dict[d],' Which in proportion to other days is: ',round(days_week_dict[d]/total,3))\n",
        "  plt.figure(figsize = (10,5))\n",
        "  plt.bar([i for i in range(len(days_week_dict.keys()))],days_week_dict.values())\n",
        "  plt.title('Days of week histogram count')\n",
        "  plt.ylabel('Count for day')\n",
        "  plt.xlabel('Day')\n",
        "  plt.xticks([i for i in range(len(days_week_dict.keys()))],list(days_week_dict.keys()))\n",
        "  plt.show()"
      ],
      "metadata": {
        "id": "bbc5NegtZsIY"
      },
      "execution_count": null,
      "outputs": []
    },
    {
      "cell_type": "code",
      "source": [
        "generate_days_histogram(nyt_balanced_df)"
      ],
      "metadata": {
        "colab": {
          "base_uri": "https://localhost:8080/",
          "height": 478
        },
        "id": "xM2X_dlkaQ16",
        "outputId": "94188884-71c7-4a4d-f4f9-7a60482d24d3"
      },
      "execution_count": null,
      "outputs": [
        {
          "output_type": "stream",
          "name": "stdout",
          "text": [
            "Sunday  Values is  101249  Which in proportion to other days is:  0.147\n",
            "Monday  Values is  105913  Which in proportion to other days is:  0.154\n",
            "Tuesday  Values is  104303  Which in proportion to other days is:  0.151\n",
            "Wednesday  Values is  102496  Which in proportion to other days is:  0.149\n",
            "Thursday  Values is  99119  Which in proportion to other days is:  0.144\n",
            "Friday  Values is  89489  Which in proportion to other days is:  0.13\n",
            "Saturday  Values is  87132  Which in proportion to other days is:  0.126\n"
          ]
        },
        {
          "output_type": "display_data",
          "data": {
            "text/plain": [
              "<Figure size 720x360 with 1 Axes>"
            ],
            "image/png": "[encoded data removed]"
          },
          "metadata": {
            "needs_background": "light"
          }
        }
      ]
    },
    {
      "cell_type": "code",
      "source": [
        "nyt_balanced_df[nyt_balanced_df['Clue'].apply(lambda x: '_' in str(x))]"
      ],
      "metadata": {
        "colab": {
          "base_uri": "https://localhost:8080/",
          "height": 423
        },
        "id": "P_xI4GXsaTCh",
        "outputId": "275f3313-9c67-4346-b248-57b2408f9572"
      },
      "execution_count": null,
      "outputs": [
        {
          "output_type": "execute_result",
          "data": {
            "text/plain": [
              "             Date    Word                                            Clue  \\\n",
              "21     2021-10-31   ARTIE      ___ Kornfeld, music promoter for Woodstock   \n",
              "25     2021-10-31     SHE                             \"Murder, ___ Wrote\"   \n",
              "26     2021-10-31   SACHS  Samuel ___, business partner of Marcus Goldman   \n",
              "33     2021-10-31    AMES            Silicon Valley's ___ Research Center   \n",
              "47     2021-10-31    DEUS                                  ___ ex machina   \n",
              "...           ...     ...                                             ...   \n",
              "689623 1993-11-22   ATALL                   \"Any Time ___\" (Beatles tune)   \n",
              "689664 1993-11-21  SIRENS                   Vonnegut's \"The ___ of Titan\"   \n",
              "689685 1993-11-21   ENOLA                                         ___ Gay   \n",
              "689690 1993-11-21     ORA                                   ___ pro nobis   \n",
              "689695 1993-11-21     ARS           \"___ magna\" (anagrams, appropriately)   \n",
              "\n",
              "       day_of_week  year  \n",
              "21          Sunday  2021  \n",
              "25          Sunday  2021  \n",
              "26          Sunday  2021  \n",
              "33          Sunday  2021  \n",
              "47          Sunday  2021  \n",
              "...            ...   ...  \n",
              "689623      Monday  1993  \n",
              "689664      Sunday  1993  \n",
              "689685      Sunday  1993  \n",
              "689690      Sunday  1993  \n",
              "689695      Sunday  1993  \n",
              "\n",
              "[49873 rows x 5 columns]"
            ],
            "text/html": [
              "\n",
              "  <div id=\"df-435b1741-b122-4e64-8727-381002b69573\">\n",
              "    <div class=\"colab-df-container\">\n",
              "      <div>\n",
              "<style scoped>\n",
              "    .dataframe tbody tr th:only-of-type {\n",
              "        vertical-align: middle;\n",
              "    }\n",
              "\n",
              "    .dataframe tbody tr th {\n",
              "        vertical-align: top;\n",
              "    }\n",
              "\n",
              "    .dataframe thead th {\n",
              "        text-align: right;\n",
              "    }\n",
              "</style>\n",
              "<table border=\"1\" class=\"dataframe\">\n",
              "  <thead>\n",
              "    <tr style=\"text-align: right;\">\n",
              "      <th></th>\n",
              "      <th>Date</th>\n",
              "      <th>Word</th>\n",
              "      <th>Clue</th>\n",
              "      <th>day_of_week</th>\n",
              "      <th>year</th>\n",
              "    </tr>\n",
              "  </thead>\n",
              "  <tbody>\n",
              "    <tr>\n",
              "      <th>21</th>\n",
              "      <td>2021-10-31</td>\n",
              "      <td>ARTIE</td>\n",
              "      <td>___ Kornfeld, music promoter for Woodstock</td>\n",
              "      <td>Sunday</td>\n",
              "      <td>2021</td>\n",
              "    </tr>\n",
              "    <tr>\n",
              "      <th>25</th>\n",
              "      <td>2021-10-31</td>\n",
              "      <td>SHE</td>\n",
              "      <td>\"Murder, ___ Wrote\"</td>\n",
              "      <td>Sunday</td>\n",
              "      <td>2021</td>\n",
              "    </tr>\n",
              "    <tr>\n",
              "      <th>26</th>\n",
              "      <td>2021-10-31</td>\n",
              "      <td>SACHS</td>\n",
              "      <td>Samuel ___, business partner of Marcus Goldman</td>\n",
              "      <td>Sunday</td>\n",
              "      <td>2021</td>\n",
              "    </tr>\n",
              "    <tr>\n",
              "      <th>33</th>\n",
              "      <td>2021-10-31</td>\n",
              "      <td>AMES</td>\n",
              "      <td>Silicon Valley's ___ Research Center</td>\n",
              "      <td>Sunday</td>\n",
              "      <td>2021</td>\n",
              "    </tr>\n",
              "    <tr>\n",
              "      <th>47</th>\n",
              "      <td>2021-10-31</td>\n",
              "      <td>DEUS</td>\n",
              "      <td>___ ex machina</td>\n",
              "      <td>Sunday</td>\n",
              "      <td>2021</td>\n",
              "    </tr>\n",
              "    <tr>\n",
              "      <th>...</th>\n",
              "      <td>...</td>\n",
              "      <td>...</td>\n",
              "      <td>...</td>\n",
              "      <td>...</td>\n",
              "      <td>...</td>\n",
              "    </tr>\n",
              "    <tr>\n",
              "      <th>689623</th>\n",
              "      <td>1993-11-22</td>\n",
              "      <td>ATALL</td>\n",
              "      <td>\"Any Time ___\" (Beatles tune)</td>\n",
              "      <td>Monday</td>\n",
              "      <td>1993</td>\n",
              "    </tr>\n",
              "    <tr>\n",
              "      <th>689664</th>\n",
              "      <td>1993-11-21</td>\n",
              "      <td>SIRENS</td>\n",
              "      <td>Vonnegut's \"The ___ of Titan\"</td>\n",
              "      <td>Sunday</td>\n",
              "      <td>1993</td>\n",
              "    </tr>\n",
              "    <tr>\n",
              "      <th>689685</th>\n",
              "      <td>1993-11-21</td>\n",
              "      <td>ENOLA</td>\n",
              "      <td>___ Gay</td>\n",
              "      <td>Sunday</td>\n",
              "      <td>1993</td>\n",
              "    </tr>\n",
              "    <tr>\n",
              "      <th>689690</th>\n",
              "      <td>1993-11-21</td>\n",
              "      <td>ORA</td>\n",
              "      <td>___ pro nobis</td>\n",
              "      <td>Sunday</td>\n",
              "      <td>1993</td>\n",
              "    </tr>\n",
              "    <tr>\n",
              "      <th>689695</th>\n",
              "      <td>1993-11-21</td>\n",
              "      <td>ARS</td>\n",
              "      <td>\"___ magna\" (anagrams, appropriately)</td>\n",
              "      <td>Sunday</td>\n",
              "      <td>1993</td>\n",
              "    </tr>\n",
              "  </tbody>\n",
              "</table>\n",
              "<p>49873 rows × 5 columns</p>\n",
              "</div>\n",
              "      <button class=\"colab-df-convert\" onclick=\"convertToInteractive('df-435b1741-b122-4e64-8727-381002b69573')\"\n",
              "              title=\"Convert this dataframe to an interactive table.\"\n",
              "              style=\"display:none;\">\n",
              "        \n",
              "  <svg xmlns=\"http://www.w3.org/2000/svg\" height=\"24px\"viewBox=\"0 0 24 24\"\n",
              "       width=\"24px\">\n",
              "    <path d=\"M0 0h24v24H0V0z\" fill=\"none\"/>\n",
              "    <path d=\"M18.56 5.44l.94 2.06.94-2.06 2.06-.94-2.06-.94-.94-2.06-.94 2.06-2.06.94zm-11 1L8.5 8.5l.94-2.06 2.06-.94-2.06-.94L8.5 2.5l-.94 2.06-2.06.94zm10 10l.94 2.06.94-2.06 2.06-.94-2.06-.94-.94-2.06-.94 2.06-2.06.94z\"/><path d=\"M17.41 7.96l-1.37-1.37c-.4-.4-.92-.59-1.43-.59-.52 0-1.04.2-1.43.59L10.3 9.45l-7.72 7.72c-.78.78-.78 2.05 0 2.83L4 21.41c.39.39.9.59 1.41.59.51 0 1.02-.2 1.41-.59l7.78-7.78 2.81-2.81c.8-.78.8-2.07 0-2.86zM5.41 20L4 18.59l7.72-7.72 1.47 1.35L5.41 20z\"/>\n",
              "  </svg>\n",
              "      </button>\n",
              "      \n",
              "  <style>\n",
              "    .colab-df-container {\n",
              "      display:flex;\n",
              "      flex-wrap:wrap;\n",
              "      gap: 12px;\n",
              "    }\n",
              "\n",
              "    .colab-df-convert {\n",
              "      background-color: #E8F0FE;\n",
              "      border: none;\n",
              "      border-radius: 50%;\n",
              "      cursor: pointer;\n",
              "      display: none;\n",
              "      fill: #1967D2;\n",
              "      height: 32px;\n",
              "      padding: 0 0 0 0;\n",
              "      width: 32px;\n",
              "    }\n",
              "\n",
              "    .colab-df-convert:hover {\n",
              "      background-color: #E2EBFA;\n",
              "      box-shadow: 0px 1px 2px rgba(60, 64, 67, 0.3), 0px 1px 3px 1px rgba(60, 64, 67, 0.15);\n",
              "      fill: #174EA6;\n",
              "    }\n",
              "\n",
              "    [theme=dark] .colab-df-convert {\n",
              "      background-color: #3B4455;\n",
              "      fill: #D2E3FC;\n",
              "    }\n",
              "\n",
              "    [theme=dark] .colab-df-convert:hover {\n",
              "      background-color: #434B5C;\n",
              "      box-shadow: 0px 1px 3px 1px rgba(0, 0, 0, 0.15);\n",
              "      filter: drop-shadow(0px 1px 2px rgba(0, 0, 0, 0.3));\n",
              "      fill: #FFFFFF;\n",
              "    }\n",
              "  </style>\n",
              "\n",
              "      <script>\n",
              "        const buttonEl =\n",
              "          document.querySelector('#df-435b1741-b122-4e64-8727-381002b69573 button.colab-df-convert');\n",
              "        buttonEl.style.display =\n",
              "          google.colab.kernel.accessAllowed ? 'block' : 'none';\n",
              "\n",
              "        async function convertToInteractive(key) {\n",
              "          const element = document.querySelector('#df-435b1741-b122-4e64-8727-381002b69573');\n",
              "          const dataTable =\n",
              "            await google.colab.kernel.invokeFunction('convertToInteractive',\n",
              "                                                     [key], {});\n",
              "          if (!dataTable) return;\n",
              "\n",
              "          const docLinkHtml = 'Like what you see? Visit the ' +\n",
              "            '<a target=\"_blank\" href=https://colab.research.google.com/notebooks/data_table.ipynb>data table notebook</a>'\n",
              "            + ' to learn more about interactive tables.';\n",
              "          element.innerHTML = '';\n",
              "          dataTable['output_type'] = 'display_data';\n",
              "          await google.colab.output.renderOutput(dataTable, element);\n",
              "          const docLink = document.createElement('div');\n",
              "          docLink.innerHTML = docLinkHtml;\n",
              "          element.appendChild(docLink);\n",
              "        }\n",
              "      </script>\n",
              "    </div>\n",
              "  </div>\n",
              "  "
            ]
          },
          "metadata": {},
          "execution_count": 6
        }
      ]
    },
    {
      "cell_type": "code",
      "source": [
        "generate_days_histogram(nyt_balanced_df[nyt_balanced_df['Clue'].apply(lambda x: '_' in str(x))])"
      ],
      "metadata": {
        "colab": {
          "base_uri": "https://localhost:8080/",
          "height": 478
        },
        "id": "LJg-MXPmcRsA",
        "outputId": "15e4c999-c70d-43fe-9a9a-478e84a77f62"
      },
      "execution_count": null,
      "outputs": [
        {
          "output_type": "stream",
          "name": "stdout",
          "text": [
            "Sunday  Values is  7210  Which in proportion to other days is:  0.145\n",
            "Monday  Values is  9737  Which in proportion to other days is:  0.195\n",
            "Tuesday  Values is  8382  Which in proportion to other days is:  0.168\n",
            "Wednesday  Values is  7226  Which in proportion to other days is:  0.145\n",
            "Thursday  Values is  7248  Which in proportion to other days is:  0.145\n",
            "Friday  Values is  5270  Which in proportion to other days is:  0.106\n",
            "Saturday  Values is  4800  Which in proportion to other days is:  0.096\n"
          ]
        },
        {
          "output_type": "display_data",
          "data": {
            "text/plain": [
              "<Figure size 720x360 with 1 Axes>"
            ],
            "image/png": "[encoded data removed]"
          },
          "metadata": {
            "needs_background": "light"
          }
        }
      ]
    },
    {
      "cell_type": "code",
      "source": [
        "nyt_balanced_df[nyt_balanced_df['Clue'].apply(lambda x: '_' not in str(x))]"
      ],
      "metadata": {
        "colab": {
          "base_uri": "https://localhost:8080/",
          "height": 423
        },
        "id": "Xqc4_5Hxag2L",
        "outputId": "315f530b-0f97-42a5-c929-b0bfc032b6db"
      },
      "execution_count": null,
      "outputs": [
        {
          "output_type": "execute_result",
          "data": {
            "text/plain": [
              "        Unnamed: 0       Date       Word  \\\n",
              "0                0 2021-10-31        PEN   \n",
              "1                1 2021-10-31        SEP   \n",
              "2                2 2021-10-31        ECO   \n",
              "3                3 2021-10-31    EMMYLOU   \n",
              "4                4 2021-10-31  HITORMISS   \n",
              "...            ...        ...        ...   \n",
              "689696      689696 1993-11-21       DOZE   \n",
              "689697      689697 1993-11-21        ACE   \n",
              "689698      689698 1993-11-21        NAT   \n",
              "689699      689699 1993-11-21        NEA   \n",
              "689700      689700 1993-11-21        BEG   \n",
              "\n",
              "                                            Clue day_of_week  year  \n",
              "0                    It might click for a writer      Sunday  2021  \n",
              "1                                       Fall mo.      Sunday  2021  \n",
              "2                          Kind to Mother Nature      Sunday  2021  \n",
              "3       Harris in the Country Music Hall of Fame      Sunday  2021  \n",
              "4                                      Haphazard      Sunday  2021  \n",
              "...                                          ...         ...   ...  \n",
              "689696                                       Nap      Sunday  1993  \n",
              "689697                           King's superior      Sunday  1993  \n",
              "689698                           Actor Pendleton      Sunday  1993  \n",
              "689699                            Teachers' org.      Sunday  1993  \n",
              "689700                                  Petition      Sunday  1993  \n",
              "\n",
              "[639828 rows x 6 columns]"
            ],
            "text/html": [
              "\n",
              "  <div id=\"df-b2de0371-e99f-4372-934e-ed839861bec5\">\n",
              "    <div class=\"colab-df-container\">\n",
              "      <div>\n",
              "<style scoped>\n",
              "    .dataframe tbody tr th:only-of-type {\n",
              "        vertical-align: middle;\n",
              "    }\n",
              "\n",
              "    .dataframe tbody tr th {\n",
              "        vertical-align: top;\n",
              "    }\n",
              "\n",
              "    .dataframe thead th {\n",
              "        text-align: right;\n",
              "    }\n",
              "</style>\n",
              "<table border=\"1\" class=\"dataframe\">\n",
              "  <thead>\n",
              "    <tr style=\"text-align: right;\">\n",
              "      <th></th>\n",
              "      <th>Unnamed: 0</th>\n",
              "      <th>Date</th>\n",
              "      <th>Word</th>\n",
              "      <th>Clue</th>\n",
              "      <th>day_of_week</th>\n",
              "      <th>year</th>\n",
              "    </tr>\n",
              "  </thead>\n",
              "  <tbody>\n",
              "    <tr>\n",
              "      <th>0</th>\n",
              "      <td>0</td>\n",
              "      <td>2021-10-31</td>\n",
              "      <td>PEN</td>\n",
              "      <td>It might click for a writer</td>\n",
              "      <td>Sunday</td>\n",
              "      <td>2021</td>\n",
              "    </tr>\n",
              "    <tr>\n",
              "      <th>1</th>\n",
              "      <td>1</td>\n",
              "      <td>2021-10-31</td>\n",
              "      <td>SEP</td>\n",
              "      <td>Fall mo.</td>\n",
              "      <td>Sunday</td>\n",
              "      <td>2021</td>\n",
              "    </tr>\n",
              "    <tr>\n",
              "      <th>2</th>\n",
              "      <td>2</td>\n",
              "      <td>2021-10-31</td>\n",
              "      <td>ECO</td>\n",
              "      <td>Kind to Mother Nature</td>\n",
              "      <td>Sunday</td>\n",
              "      <td>2021</td>\n",
              "    </tr>\n",
              "    <tr>\n",
              "      <th>3</th>\n",
              "      <td>3</td>\n",
              "      <td>2021-10-31</td>\n",
              "      <td>EMMYLOU</td>\n",
              "      <td>Harris in the Country Music Hall of Fame</td>\n",
              "      <td>Sunday</td>\n",
              "      <td>2021</td>\n",
              "    </tr>\n",
              "    <tr>\n",
              "      <th>4</th>\n",
              "      <td>4</td>\n",
              "      <td>2021-10-31</td>\n",
              "      <td>HITORMISS</td>\n",
              "      <td>Haphazard</td>\n",
              "      <td>Sunday</td>\n",
              "      <td>2021</td>\n",
              "    </tr>\n",
              "    <tr>\n",
              "      <th>...</th>\n",
              "      <td>...</td>\n",
              "      <td>...</td>\n",
              "      <td>...</td>\n",
              "      <td>...</td>\n",
              "      <td>...</td>\n",
              "      <td>...</td>\n",
              "    </tr>\n",
              "    <tr>\n",
              "      <th>689696</th>\n",
              "      <td>689696</td>\n",
              "      <td>1993-11-21</td>\n",
              "      <td>DOZE</td>\n",
              "      <td>Nap</td>\n",
              "      <td>Sunday</td>\n",
              "      <td>1993</td>\n",
              "    </tr>\n",
              "    <tr>\n",
              "      <th>689697</th>\n",
              "      <td>689697</td>\n",
              "      <td>1993-11-21</td>\n",
              "      <td>ACE</td>\n",
              "      <td>King's superior</td>\n",
              "      <td>Sunday</td>\n",
              "      <td>1993</td>\n",
              "    </tr>\n",
              "    <tr>\n",
              "      <th>689698</th>\n",
              "      <td>689698</td>\n",
              "      <td>1993-11-21</td>\n",
              "      <td>NAT</td>\n",
              "      <td>Actor Pendleton</td>\n",
              "      <td>Sunday</td>\n",
              "      <td>1993</td>\n",
              "    </tr>\n",
              "    <tr>\n",
              "      <th>689699</th>\n",
              "      <td>689699</td>\n",
              "      <td>1993-11-21</td>\n",
              "      <td>NEA</td>\n",
              "      <td>Teachers' org.</td>\n",
              "      <td>Sunday</td>\n",
              "      <td>1993</td>\n",
              "    </tr>\n",
              "    <tr>\n",
              "      <th>689700</th>\n",
              "      <td>689700</td>\n",
              "      <td>1993-11-21</td>\n",
              "      <td>BEG</td>\n",
              "      <td>Petition</td>\n",
              "      <td>Sunday</td>\n",
              "      <td>1993</td>\n",
              "    </tr>\n",
              "  </tbody>\n",
              "</table>\n",
              "<p>639828 rows × 6 columns</p>\n",
              "</div>\n",
              "      <button class=\"colab-df-convert\" onclick=\"convertToInteractive('df-b2de0371-e99f-4372-934e-ed839861bec5')\"\n",
              "              title=\"Convert this dataframe to an interactive table.\"\n",
              "              style=\"display:none;\">\n",
              "        \n",
              "  <svg xmlns=\"http://www.w3.org/2000/svg\" height=\"24px\"viewBox=\"0 0 24 24\"\n",
              "       width=\"24px\">\n",
              "    <path d=\"M0 0h24v24H0V0z\" fill=\"none\"/>\n",
              "    <path d=\"M18.56 5.44l.94 2.06.94-2.06 2.06-.94-2.06-.94-.94-2.06-.94 2.06-2.06.94zm-11 1L8.5 8.5l.94-2.06 2.06-.94-2.06-.94L8.5 2.5l-.94 2.06-2.06.94zm10 10l.94 2.06.94-2.06 2.06-.94-2.06-.94-.94-2.06-.94 2.06-2.06.94z\"/><path d=\"M17.41 7.96l-1.37-1.37c-.4-.4-.92-.59-1.43-.59-.52 0-1.04.2-1.43.59L10.3 9.45l-7.72 7.72c-.78.78-.78 2.05 0 2.83L4 21.41c.39.39.9.59 1.41.59.51 0 1.02-.2 1.41-.59l7.78-7.78 2.81-2.81c.8-.78.8-2.07 0-2.86zM5.41 20L4 18.59l7.72-7.72 1.47 1.35L5.41 20z\"/>\n",
              "  </svg>\n",
              "      </button>\n",
              "      \n",
              "  <style>\n",
              "    .colab-df-container {\n",
              "      display:flex;\n",
              "      flex-wrap:wrap;\n",
              "      gap: 12px;\n",
              "    }\n",
              "\n",
              "    .colab-df-convert {\n",
              "      background-color: #E8F0FE;\n",
              "      border: none;\n",
              "      border-radius: 50%;\n",
              "      cursor: pointer;\n",
              "      display: none;\n",
              "      fill: #1967D2;\n",
              "      height: 32px;\n",
              "      padding: 0 0 0 0;\n",
              "      width: 32px;\n",
              "    }\n",
              "\n",
              "    .colab-df-convert:hover {\n",
              "      background-color: #E2EBFA;\n",
              "      box-shadow: 0px 1px 2px rgba(60, 64, 67, 0.3), 0px 1px 3px 1px rgba(60, 64, 67, 0.15);\n",
              "      fill: #174EA6;\n",
              "    }\n",
              "\n",
              "    [theme=dark] .colab-df-convert {\n",
              "      background-color: #3B4455;\n",
              "      fill: #D2E3FC;\n",
              "    }\n",
              "\n",
              "    [theme=dark] .colab-df-convert:hover {\n",
              "      background-color: #434B5C;\n",
              "      box-shadow: 0px 1px 3px 1px rgba(0, 0, 0, 0.15);\n",
              "      filter: drop-shadow(0px 1px 2px rgba(0, 0, 0, 0.3));\n",
              "      fill: #FFFFFF;\n",
              "    }\n",
              "  </style>\n",
              "\n",
              "      <script>\n",
              "        const buttonEl =\n",
              "          document.querySelector('#df-b2de0371-e99f-4372-934e-ed839861bec5 button.colab-df-convert');\n",
              "        buttonEl.style.display =\n",
              "          google.colab.kernel.accessAllowed ? 'block' : 'none';\n",
              "\n",
              "        async function convertToInteractive(key) {\n",
              "          const element = document.querySelector('#df-b2de0371-e99f-4372-934e-ed839861bec5');\n",
              "          const dataTable =\n",
              "            await google.colab.kernel.invokeFunction('convertToInteractive',\n",
              "                                                     [key], {});\n",
              "          if (!dataTable) return;\n",
              "\n",
              "          const docLinkHtml = 'Like what you see? Visit the ' +\n",
              "            '<a target=\"_blank\" href=https://colab.research.google.com/notebooks/data_table.ipynb>data table notebook</a>'\n",
              "            + ' to learn more about interactive tables.';\n",
              "          element.innerHTML = '';\n",
              "          dataTable['output_type'] = 'display_data';\n",
              "          await google.colab.output.renderOutput(dataTable, element);\n",
              "          const docLink = document.createElement('div');\n",
              "          docLink.innerHTML = docLinkHtml;\n",
              "          element.appendChild(docLink);\n",
              "        }\n",
              "      </script>\n",
              "    </div>\n",
              "  </div>\n",
              "  "
            ]
          },
          "metadata": {},
          "execution_count": 6
        }
      ]
    },
    {
      "cell_type": "markdown",
      "source": [
        "# Split DS to train eval and test"
      ],
      "metadata": {
        "id": "hikqnJJreC9y"
      }
    },
    {
      "cell_type": "code",
      "source": [
        "def split_to_train_eval_test(df,train_size = 0.7 , eval_size = 0.2 , test_size = 0.1):\n",
        "  full_index_list = np.array(df.index)\n",
        "  size_of_train = int(full_index_list.shape[0]*train_size)\n",
        "  train_index_list = np.array(random.sample(set(full_index_list),size_of_train))\n",
        "  train_df = df.filter(items = train_index_list, axis=0)\n",
        "  not_train_df = df.drop(train_index_list,axis = 0)\n",
        "  \n",
        "  left_indexs = np.array(not_train_df.index)\n",
        "  eval_ration = round(eval_size / (eval_size + test_size),2)\n",
        "  eval_size = int(eval_ration*left_indexs.shape[0])\n",
        "  eval_index = np.array(random.sample(set(left_indexs),eval_size))\n",
        "\n",
        "  eval_df = not_train_df.filter(items = eval_index, axis=0)\n",
        "  test_df = not_train_df.drop(eval_index,axis = 0)\n",
        "  return train_df , eval_df , test_df"
      ],
      "metadata": {
        "id": "bbV7M_wle1qn"
      },
      "execution_count": null,
      "outputs": []
    },
    {
      "cell_type": "code",
      "source": [
        "nyt_train_df , nyt_eval_df , nyt_test_df = split_to_train_eval_test(nyt_balanced_df)"
      ],
      "metadata": {
        "id": "kHHekGrEl9SV"
      },
      "execution_count": null,
      "outputs": []
    },
    {
      "cell_type": "code",
      "source": [
        "print('size of train nyt df is',nyt_train_df.shape,'\\nSize of eval is ',nyt_eval_df.shape,'\\nSize of test nyt df is ',nyt_test_df.shape)\n",
        "print('Size of whole nyt balanced df is',nyt_balanced_df.shape,'\\nthe split DF sum up to ',nyt_train_df.shape[0]+nyt_eval_df.shape[0] + nyt_test_df.shape[0])\n",
        "print('Ratio for train ',nyt_train_df.shape[0]/nyt_balanced_df.shape[0],'\\nration for eval is',nyt_eval_df.shape[0]/nyt_balanced_df.shape[0],'\\nration for test is',nyt_test_df.shape[0]/nyt_balanced_df.shape[0])"
      ],
      "metadata": {
        "colab": {
          "base_uri": "https://localhost:8080/"
        },
        "id": "J0FpmqsulysT",
        "outputId": "549bb95f-2dbd-4c03-bd43-4dee7c1bf796"
      },
      "execution_count": null,
      "outputs": [
        {
          "output_type": "stream",
          "name": "stdout",
          "text": [
            "size of train nyt df is (482790, 5) \n",
            "Size of eval is  (138630, 5) \n",
            "Size of test nyt df is  (68281, 5)\n",
            "Size of whole nyt balanced df is (689701, 5) \n",
            "the split DF sum up to  689701\n",
            "Ratio for train  0.6999989850674423 \n",
            "ration for eval is 0.20100014354046172 \n",
            "ration for test is 0.099000871392096\n"
          ]
        }
      ]
    },
    {
      "cell_type": "code",
      "source": [
        "generate_days_histogram(nyt_train_df)"
      ],
      "metadata": {
        "colab": {
          "base_uri": "https://localhost:8080/",
          "height": 478
        },
        "id": "uBcv6z4ho_zw",
        "outputId": "f363c1b0-aaf2-4da3-f857-99b14a297828"
      },
      "execution_count": null,
      "outputs": [
        {
          "output_type": "stream",
          "name": "stdout",
          "text": [
            "Sunday  Values is  70857  Which in proportion to other days is:  0.147\n",
            "Monday  Values is  74293  Which in proportion to other days is:  0.154\n",
            "Tuesday  Values is  72941  Which in proportion to other days is:  0.151\n",
            "Wednesday  Values is  71703  Which in proportion to other days is:  0.149\n",
            "Thursday  Values is  69413  Which in proportion to other days is:  0.144\n",
            "Friday  Values is  62639  Which in proportion to other days is:  0.13\n",
            "Saturday  Values is  60944  Which in proportion to other days is:  0.126\n"
          ]
        },
        {
          "output_type": "display_data",
          "data": {
            "text/plain": [
              "<Figure size 720x360 with 1 Axes>"
            ],
            "image/png": "[encoded data removed]"
          },
          "metadata": {
            "needs_background": "light"
          }
        }
      ]
    },
    {
      "cell_type": "code",
      "source": [
        "generate_days_histogram(nyt_eval_df)"
      ],
      "metadata": {
        "colab": {
          "base_uri": "https://localhost:8080/",
          "height": 478
        },
        "id": "TQqlrRxEqSGa",
        "outputId": "5b4e53b8-0c29-414e-90e7-e69791314575"
      },
      "execution_count": null,
      "outputs": [
        {
          "output_type": "stream",
          "name": "stdout",
          "text": [
            "Sunday  Values is  20375  Which in proportion to other days is:  0.147\n",
            "Monday  Values is  21275  Which in proportion to other days is:  0.153\n",
            "Tuesday  Values is  20976  Which in proportion to other days is:  0.151\n",
            "Wednesday  Values is  20596  Which in proportion to other days is:  0.149\n",
            "Thursday  Values is  19919  Which in proportion to other days is:  0.144\n",
            "Friday  Values is  17998  Which in proportion to other days is:  0.13\n",
            "Saturday  Values is  17491  Which in proportion to other days is:  0.126\n"
          ]
        },
        {
          "output_type": "display_data",
          "data": {
            "text/plain": [
              "<Figure size 720x360 with 1 Axes>"
            ],
            "image/png": "[encoded data removed]"
          },
          "metadata": {
            "needs_background": "light"
          }
        }
      ]
    },
    {
      "cell_type": "code",
      "source": [
        "generate_days_histogram(nyt_test_df)"
      ],
      "metadata": {
        "colab": {
          "base_uri": "https://localhost:8080/",
          "height": 478
        },
        "id": "VTvRdBIgqVwL",
        "outputId": "3015e660-f81f-4a60-b768-3fe9da0aed80"
      },
      "execution_count": null,
      "outputs": [
        {
          "output_type": "stream",
          "name": "stdout",
          "text": [
            "Sunday  Values is  10017  Which in proportion to other days is:  0.147\n",
            "Monday  Values is  10345  Which in proportion to other days is:  0.152\n",
            "Tuesday  Values is  10386  Which in proportion to other days is:  0.152\n",
            "Wednesday  Values is  10197  Which in proportion to other days is:  0.149\n",
            "Thursday  Values is  9787  Which in proportion to other days is:  0.143\n",
            "Friday  Values is  8852  Which in proportion to other days is:  0.13\n",
            "Saturday  Values is  8697  Which in proportion to other days is:  0.127\n"
          ]
        },
        {
          "output_type": "display_data",
          "data": {
            "text/plain": [
              "<Figure size 720x360 with 1 Axes>"
            ],
            "image/png": "[encoded data removed]"
          },
          "metadata": {
            "needs_background": "light"
          }
        }
      ]
    },
    {
      "cell_type": "markdown",
      "source": [
        "**As we can see the split was successfull and the days ration is kept for futher complexity**\n",
        "\n",
        "Lets save the models and import them to the BERT notebooks for fine tunning and predictions"
      ],
      "metadata": {
        "id": "6QOJkRijqang"
      }
    },
    {
      "cell_type": "code",
      "source": [
        "# nyt_train_df.to_csv('/content/drive/MyDrive/NLP/Project/nytcrosswords_balanced_days_train.csv')\n",
        "# nyt_eval_df.to_csv('/content/drive/MyDrive/NLP/Project/nytcrosswords_balanced_days_eval.csv')\n",
        "# nyt_test_df.to_csv('/content/drive/MyDrive/NLP/Project/nytcrosswords_balanced_days_test.csv')"
      ],
      "metadata": {
        "id": "WhtgeUaKqZO-"
      },
      "execution_count": null,
      "outputs": []
    },
    {
      "cell_type": "markdown",
      "source": [
        "# Lets shrink the DS abit because there are many enteries and the training time takes a while. \n",
        "\n",
        "We will drop indexes that are older than 2010 , and than check if we need to drop indexes from more recent years until we converge to about:\n",
        "train - roughly 100k \n",
        "eval 30k-35k\n",
        "test 14k-16k"
      ],
      "metadata": {
        "id": "hDplAHScGVoa"
      }
    },
    {
      "cell_type": "code",
      "source": [
        "def generate_days_histogram(df):\n",
        "  days_week_dict = {d:df[df['day_of_week'].apply(lambda x: x == d)].shape[0] for d in set(df['day_of_week'])}\n",
        "  days = ['Sunday','Monday','Tuesday','Wednesday','Thursday','Friday','Saturday']\n",
        "  total = np.sum([v for v in days_week_dict.values()])\n",
        "  for d in days:\n",
        "    print(d,' Values is ',days_week_dict[d],' Which in proportion to other days is: ',round(days_week_dict[d]/total,3))\n",
        "  plt.figure(figsize = (10,5))\n",
        "  plt.bar([i for i in range(len(days_week_dict.keys()))],days_week_dict.values())\n",
        "  plt.title('Days of week histogram count')\n",
        "  plt.ylabel('Count for day')\n",
        "  plt.xlabel('Day')\n",
        "  plt.xticks([i for i in range(len(days_week_dict.keys()))],list(days_week_dict.keys()))\n",
        "  plt.show()"
      ],
      "metadata": {
        "id": "sRo4YWvVQ_qH"
      },
      "execution_count": 57,
      "outputs": []
    },
    {
      "cell_type": "code",
      "source": [
        "nyt_train_df = pd.read_csv('/content/drive/MyDrive/NLP/Project/nytcrosswords_balanced_days_train.csv')\n",
        "nyt_eval_df = pd.read_csv('/content/drive/MyDrive/NLP/Project/nytcrosswords_balanced_days_eval.csv')\n",
        "nyt_test_df = pd.read_csv('/content/drive/MyDrive/NLP/Project/nytcrosswords_balanced_days_test.csv')"
      ],
      "metadata": {
        "id": "nv5v1mSWrAFd"
      },
      "execution_count": null,
      "outputs": []
    },
    {
      "cell_type": "code",
      "source": [
        "nyt_train_df.drop(columns = ['Unnamed: 0'],inplace = True)"
      ],
      "metadata": {
        "id": "rRp57D5PHBy-"
      },
      "execution_count": null,
      "outputs": []
    },
    {
      "cell_type": "code",
      "source": [
        "nyt_eval_df.drop(columns = ['Unnamed: 0'],inplace = True)"
      ],
      "metadata": {
        "id": "Bf98txE_HHx_"
      },
      "execution_count": null,
      "outputs": []
    },
    {
      "cell_type": "code",
      "source": [
        "nyt_test_df.drop(columns = ['Unnamed: 0'],inplace = True)"
      ],
      "metadata": {
        "id": "FnApI51xHIwV"
      },
      "execution_count": null,
      "outputs": []
    },
    {
      "cell_type": "code",
      "source": [
        "nyt_train_df[nyt_train_df['year'] >= 2010]"
      ],
      "metadata": {
        "colab": {
          "base_uri": "https://localhost:8080/",
          "height": 423
        },
        "id": "eokyXck_HJuO",
        "outputId": "c38ccd60-26b5-4569-b485-5f97d437c25b"
      },
      "execution_count": null,
      "outputs": [
        {
          "output_type": "execute_result",
          "data": {
            "text/plain": [
              "              Date           Word  \\\n",
              "0       2016-08-20            DEW   \n",
              "7       2020-10-21           SHOP   \n",
              "10      2015-01-28           AWET   \n",
              "13      2011-08-15         COOPER   \n",
              "18      2012-01-30          ISLES   \n",
              "...            ...            ...   \n",
              "482780  2020-12-22            OLD   \n",
              "482781  2011-01-23            LBS   \n",
              "482786  2017-03-05  ROADSIDEDINER   \n",
              "482788  2019-11-20            ERA   \n",
              "482789  2014-11-12          SUMAC   \n",
              "\n",
              "                                               Clue day_of_week  year  \n",
              "0                                      Wet blanket?    Saturday  2016  \n",
              "7                                   Union workplace   Wednesday  2020  \n",
              "10                                   Mad as ___ hen   Wednesday  2015  \n",
              "13                \"The Last of the Mohicans\" author      Monday  2011  \n",
              "18                           Spots in the Caribbean      Monday  2012  \n",
              "...                                             ...         ...   ...  \n",
              "482780                                         Aged     Tuesday  2020  \n",
              "482781                               Dumbbell abbr.      Sunday  2011  \n",
              "482786   [Circled letters]-advertised establishment      Sunday  2017  \n",
              "482788  Baseball stat that's better when it's lower   Wednesday  2019  \n",
              "482789                                   Poison ___   Wednesday  2014  \n",
              "\n",
              "[203511 rows x 5 columns]"
            ],
            "text/html": [
              "\n",
              "  <div id=\"df-b0a3c1b9-477e-4c0a-b0e8-c7e26eb4e65f\">\n",
              "    <div class=\"colab-df-container\">\n",
              "      <div>\n",
              "<style scoped>\n",
              "    .dataframe tbody tr th:only-of-type {\n",
              "        vertical-align: middle;\n",
              "    }\n",
              "\n",
              "    .dataframe tbody tr th {\n",
              "        vertical-align: top;\n",
              "    }\n",
              "\n",
              "    .dataframe thead th {\n",
              "        text-align: right;\n",
              "    }\n",
              "</style>\n",
              "<table border=\"1\" class=\"dataframe\">\n",
              "  <thead>\n",
              "    <tr style=\"text-align: right;\">\n",
              "      <th></th>\n",
              "      <th>Date</th>\n",
              "      <th>Word</th>\n",
              "      <th>Clue</th>\n",
              "      <th>day_of_week</th>\n",
              "      <th>year</th>\n",
              "    </tr>\n",
              "  </thead>\n",
              "  <tbody>\n",
              "    <tr>\n",
              "      <th>0</th>\n",
              "      <td>2016-08-20</td>\n",
              "      <td>DEW</td>\n",
              "      <td>Wet blanket?</td>\n",
              "      <td>Saturday</td>\n",
              "      <td>2016</td>\n",
              "    </tr>\n",
              "    <tr>\n",
              "      <th>7</th>\n",
              "      <td>2020-10-21</td>\n",
              "      <td>SHOP</td>\n",
              "      <td>Union workplace</td>\n",
              "      <td>Wednesday</td>\n",
              "      <td>2020</td>\n",
              "    </tr>\n",
              "    <tr>\n",
              "      <th>10</th>\n",
              "      <td>2015-01-28</td>\n",
              "      <td>AWET</td>\n",
              "      <td>Mad as ___ hen</td>\n",
              "      <td>Wednesday</td>\n",
              "      <td>2015</td>\n",
              "    </tr>\n",
              "    <tr>\n",
              "      <th>13</th>\n",
              "      <td>2011-08-15</td>\n",
              "      <td>COOPER</td>\n",
              "      <td>\"The Last of the Mohicans\" author</td>\n",
              "      <td>Monday</td>\n",
              "      <td>2011</td>\n",
              "    </tr>\n",
              "    <tr>\n",
              "      <th>18</th>\n",
              "      <td>2012-01-30</td>\n",
              "      <td>ISLES</td>\n",
              "      <td>Spots in the Caribbean</td>\n",
              "      <td>Monday</td>\n",
              "      <td>2012</td>\n",
              "    </tr>\n",
              "    <tr>\n",
              "      <th>...</th>\n",
              "      <td>...</td>\n",
              "      <td>...</td>\n",
              "      <td>...</td>\n",
              "      <td>...</td>\n",
              "      <td>...</td>\n",
              "    </tr>\n",
              "    <tr>\n",
              "      <th>482780</th>\n",
              "      <td>2020-12-22</td>\n",
              "      <td>OLD</td>\n",
              "      <td>Aged</td>\n",
              "      <td>Tuesday</td>\n",
              "      <td>2020</td>\n",
              "    </tr>\n",
              "    <tr>\n",
              "      <th>482781</th>\n",
              "      <td>2011-01-23</td>\n",
              "      <td>LBS</td>\n",
              "      <td>Dumbbell abbr.</td>\n",
              "      <td>Sunday</td>\n",
              "      <td>2011</td>\n",
              "    </tr>\n",
              "    <tr>\n",
              "      <th>482786</th>\n",
              "      <td>2017-03-05</td>\n",
              "      <td>ROADSIDEDINER</td>\n",
              "      <td>[Circled letters]-advertised establishment</td>\n",
              "      <td>Sunday</td>\n",
              "      <td>2017</td>\n",
              "    </tr>\n",
              "    <tr>\n",
              "      <th>482788</th>\n",
              "      <td>2019-11-20</td>\n",
              "      <td>ERA</td>\n",
              "      <td>Baseball stat that's better when it's lower</td>\n",
              "      <td>Wednesday</td>\n",
              "      <td>2019</td>\n",
              "    </tr>\n",
              "    <tr>\n",
              "      <th>482789</th>\n",
              "      <td>2014-11-12</td>\n",
              "      <td>SUMAC</td>\n",
              "      <td>Poison ___</td>\n",
              "      <td>Wednesday</td>\n",
              "      <td>2014</td>\n",
              "    </tr>\n",
              "  </tbody>\n",
              "</table>\n",
              "<p>203511 rows × 5 columns</p>\n",
              "</div>\n",
              "      <button class=\"colab-df-convert\" onclick=\"convertToInteractive('df-b0a3c1b9-477e-4c0a-b0e8-c7e26eb4e65f')\"\n",
              "              title=\"Convert this dataframe to an interactive table.\"\n",
              "              style=\"display:none;\">\n",
              "        \n",
              "  <svg xmlns=\"http://www.w3.org/2000/svg\" height=\"24px\"viewBox=\"0 0 24 24\"\n",
              "       width=\"24px\">\n",
              "    <path d=\"M0 0h24v24H0V0z\" fill=\"none\"/>\n",
              "    <path d=\"M18.56 5.44l.94 2.06.94-2.06 2.06-.94-2.06-.94-.94-2.06-.94 2.06-2.06.94zm-11 1L8.5 8.5l.94-2.06 2.06-.94-2.06-.94L8.5 2.5l-.94 2.06-2.06.94zm10 10l.94 2.06.94-2.06 2.06-.94-2.06-.94-.94-2.06-.94 2.06-2.06.94z\"/><path d=\"M17.41 7.96l-1.37-1.37c-.4-.4-.92-.59-1.43-.59-.52 0-1.04.2-1.43.59L10.3 9.45l-7.72 7.72c-.78.78-.78 2.05 0 2.83L4 21.41c.39.39.9.59 1.41.59.51 0 1.02-.2 1.41-.59l7.78-7.78 2.81-2.81c.8-.78.8-2.07 0-2.86zM5.41 20L4 18.59l7.72-7.72 1.47 1.35L5.41 20z\"/>\n",
              "  </svg>\n",
              "      </button>\n",
              "      \n",
              "  <style>\n",
              "    .colab-df-container {\n",
              "      display:flex;\n",
              "      flex-wrap:wrap;\n",
              "      gap: 12px;\n",
              "    }\n",
              "\n",
              "    .colab-df-convert {\n",
              "      background-color: #E8F0FE;\n",
              "      border: none;\n",
              "      border-radius: 50%;\n",
              "      cursor: pointer;\n",
              "      display: none;\n",
              "      fill: #1967D2;\n",
              "      height: 32px;\n",
              "      padding: 0 0 0 0;\n",
              "      width: 32px;\n",
              "    }\n",
              "\n",
              "    .colab-df-convert:hover {\n",
              "      background-color: #E2EBFA;\n",
              "      box-shadow: 0px 1px 2px rgba(60, 64, 67, 0.3), 0px 1px 3px 1px rgba(60, 64, 67, 0.15);\n",
              "      fill: #174EA6;\n",
              "    }\n",
              "\n",
              "    [theme=dark] .colab-df-convert {\n",
              "      background-color: #3B4455;\n",
              "      fill: #D2E3FC;\n",
              "    }\n",
              "\n",
              "    [theme=dark] .colab-df-convert:hover {\n",
              "      background-color: #434B5C;\n",
              "      box-shadow: 0px 1px 3px 1px rgba(0, 0, 0, 0.15);\n",
              "      filter: drop-shadow(0px 1px 2px rgba(0, 0, 0, 0.3));\n",
              "      fill: #FFFFFF;\n",
              "    }\n",
              "  </style>\n",
              "\n",
              "      <script>\n",
              "        const buttonEl =\n",
              "          document.querySelector('#df-b0a3c1b9-477e-4c0a-b0e8-c7e26eb4e65f button.colab-df-convert');\n",
              "        buttonEl.style.display =\n",
              "          google.colab.kernel.accessAllowed ? 'block' : 'none';\n",
              "\n",
              "        async function convertToInteractive(key) {\n",
              "          const element = document.querySelector('#df-b0a3c1b9-477e-4c0a-b0e8-c7e26eb4e65f');\n",
              "          const dataTable =\n",
              "            await google.colab.kernel.invokeFunction('convertToInteractive',\n",
              "                                                     [key], {});\n",
              "          if (!dataTable) return;\n",
              "\n",
              "          const docLinkHtml = 'Like what you see? Visit the ' +\n",
              "            '<a target=\"_blank\" href=https://colab.research.google.com/notebooks/data_table.ipynb>data table notebook</a>'\n",
              "            + ' to learn more about interactive tables.';\n",
              "          element.innerHTML = '';\n",
              "          dataTable['output_type'] = 'display_data';\n",
              "          await google.colab.output.renderOutput(dataTable, element);\n",
              "          const docLink = document.createElement('div');\n",
              "          docLink.innerHTML = docLinkHtml;\n",
              "          element.appendChild(docLink);\n",
              "        }\n",
              "      </script>\n",
              "    </div>\n",
              "  </div>\n",
              "  "
            ]
          },
          "metadata": {},
          "execution_count": 44
        }
      ]
    },
    {
      "cell_type": "code",
      "source": [
        "generate_days_histogram(nyt_train_df[nyt_train_df['year'] >= 2010])"
      ],
      "metadata": {
        "colab": {
          "base_uri": "https://localhost:8080/",
          "height": 478
        },
        "id": "yL1NawMaH7C6",
        "outputId": "56353d3b-029e-42da-da9d-417e42ea5250"
      },
      "execution_count": null,
      "outputs": [
        {
          "output_type": "stream",
          "name": "stdout",
          "text": [
            "Sunday  Values is  29840  Which in proportion to other days is:  0.147\n",
            "Monday  Values is  31219  Which in proportion to other days is:  0.153\n",
            "Tuesday  Values is  30627  Which in proportion to other days is:  0.15\n",
            "Wednesday  Values is  30137  Which in proportion to other days is:  0.148\n",
            "Thursday  Values is  29493  Which in proportion to other days is:  0.145\n",
            "Friday  Values is  26430  Which in proportion to other days is:  0.13\n",
            "Saturday  Values is  25765  Which in proportion to other days is:  0.127\n"
          ]
        },
        {
          "output_type": "display_data",
          "data": {
            "text/plain": [
              "<Figure size 720x360 with 1 Axes>"
            ],
            "image/png": "[encoded data removed]"
          },
          "metadata": {
            "needs_background": "light"
          }
        }
      ]
    },
    {
      "cell_type": "code",
      "source": [
        "nyt_eval_df[nyt_eval_df['year'] >= 2010]"
      ],
      "metadata": {
        "colab": {
          "base_uri": "https://localhost:8080/",
          "height": 423
        },
        "id": "4KgRYRGZIDK3",
        "outputId": "145b90ef-cb76-4863-9461-a01e151ff66a"
      },
      "execution_count": null,
      "outputs": [
        {
          "output_type": "execute_result",
          "data": {
            "text/plain": [
              "              Date     Word                              Clue day_of_week  \\\n",
              "1       2015-09-07  INSPIRE                          Motivate      Monday   \n",
              "2       2017-10-29    ALONE                              Stag      Sunday   \n",
              "3       2020-08-11    EDGES          Things that spheres lack     Tuesday   \n",
              "4       2018-12-17     TYKE                         Young 'un      Monday   \n",
              "8       2010-06-16     MARV               Sportscaster Albert   Wednesday   \n",
              "...            ...      ...                               ...         ...   \n",
              "138612  2017-10-12    ATEUP  Believed with no questions asked    Thursday   \n",
              "138617  2011-08-29     SILT    Deposit around a river's mouth      Monday   \n",
              "138618  2016-09-14  UTILITY                      Gas or water   Wednesday   \n",
              "138621  2020-10-17      CRI                Shout, in Chamonix    Saturday   \n",
              "138629  2020-06-29     GOLD                 Top Olympic medal      Monday   \n",
              "\n",
              "        year  \n",
              "1       2015  \n",
              "2       2017  \n",
              "3       2020  \n",
              "4       2018  \n",
              "8       2010  \n",
              "...      ...  \n",
              "138612  2017  \n",
              "138617  2011  \n",
              "138618  2016  \n",
              "138621  2020  \n",
              "138629  2020  \n",
              "\n",
              "[58381 rows x 5 columns]"
            ],
            "text/html": [
              "\n",
              "  <div id=\"df-bae9ef78-afa1-4e37-a5e0-6e9fb492e55d\">\n",
              "    <div class=\"colab-df-container\">\n",
              "      <div>\n",
              "<style scoped>\n",
              "    .dataframe tbody tr th:only-of-type {\n",
              "        vertical-align: middle;\n",
              "    }\n",
              "\n",
              "    .dataframe tbody tr th {\n",
              "        vertical-align: top;\n",
              "    }\n",
              "\n",
              "    .dataframe thead th {\n",
              "        text-align: right;\n",
              "    }\n",
              "</style>\n",
              "<table border=\"1\" class=\"dataframe\">\n",
              "  <thead>\n",
              "    <tr style=\"text-align: right;\">\n",
              "      <th></th>\n",
              "      <th>Date</th>\n",
              "      <th>Word</th>\n",
              "      <th>Clue</th>\n",
              "      <th>day_of_week</th>\n",
              "      <th>year</th>\n",
              "    </tr>\n",
              "  </thead>\n",
              "  <tbody>\n",
              "    <tr>\n",
              "      <th>1</th>\n",
              "      <td>2015-09-07</td>\n",
              "      <td>INSPIRE</td>\n",
              "      <td>Motivate</td>\n",
              "      <td>Monday</td>\n",
              "      <td>2015</td>\n",
              "    </tr>\n",
              "    <tr>\n",
              "      <th>2</th>\n",
              "      <td>2017-10-29</td>\n",
              "      <td>ALONE</td>\n",
              "      <td>Stag</td>\n",
              "      <td>Sunday</td>\n",
              "      <td>2017</td>\n",
              "    </tr>\n",
              "    <tr>\n",
              "      <th>3</th>\n",
              "      <td>2020-08-11</td>\n",
              "      <td>EDGES</td>\n",
              "      <td>Things that spheres lack</td>\n",
              "      <td>Tuesday</td>\n",
              "      <td>2020</td>\n",
              "    </tr>\n",
              "    <tr>\n",
              "      <th>4</th>\n",
              "      <td>2018-12-17</td>\n",
              "      <td>TYKE</td>\n",
              "      <td>Young 'un</td>\n",
              "      <td>Monday</td>\n",
              "      <td>2018</td>\n",
              "    </tr>\n",
              "    <tr>\n",
              "      <th>8</th>\n",
              "      <td>2010-06-16</td>\n",
              "      <td>MARV</td>\n",
              "      <td>Sportscaster Albert</td>\n",
              "      <td>Wednesday</td>\n",
              "      <td>2010</td>\n",
              "    </tr>\n",
              "    <tr>\n",
              "      <th>...</th>\n",
              "      <td>...</td>\n",
              "      <td>...</td>\n",
              "      <td>...</td>\n",
              "      <td>...</td>\n",
              "      <td>...</td>\n",
              "    </tr>\n",
              "    <tr>\n",
              "      <th>138612</th>\n",
              "      <td>2017-10-12</td>\n",
              "      <td>ATEUP</td>\n",
              "      <td>Believed with no questions asked</td>\n",
              "      <td>Thursday</td>\n",
              "      <td>2017</td>\n",
              "    </tr>\n",
              "    <tr>\n",
              "      <th>138617</th>\n",
              "      <td>2011-08-29</td>\n",
              "      <td>SILT</td>\n",
              "      <td>Deposit around a river's mouth</td>\n",
              "      <td>Monday</td>\n",
              "      <td>2011</td>\n",
              "    </tr>\n",
              "    <tr>\n",
              "      <th>138618</th>\n",
              "      <td>2016-09-14</td>\n",
              "      <td>UTILITY</td>\n",
              "      <td>Gas or water</td>\n",
              "      <td>Wednesday</td>\n",
              "      <td>2016</td>\n",
              "    </tr>\n",
              "    <tr>\n",
              "      <th>138621</th>\n",
              "      <td>2020-10-17</td>\n",
              "      <td>CRI</td>\n",
              "      <td>Shout, in Chamonix</td>\n",
              "      <td>Saturday</td>\n",
              "      <td>2020</td>\n",
              "    </tr>\n",
              "    <tr>\n",
              "      <th>138629</th>\n",
              "      <td>2020-06-29</td>\n",
              "      <td>GOLD</td>\n",
              "      <td>Top Olympic medal</td>\n",
              "      <td>Monday</td>\n",
              "      <td>2020</td>\n",
              "    </tr>\n",
              "  </tbody>\n",
              "</table>\n",
              "<p>58381 rows × 5 columns</p>\n",
              "</div>\n",
              "      <button class=\"colab-df-convert\" onclick=\"convertToInteractive('df-bae9ef78-afa1-4e37-a5e0-6e9fb492e55d')\"\n",
              "              title=\"Convert this dataframe to an interactive table.\"\n",
              "              style=\"display:none;\">\n",
              "        \n",
              "  <svg xmlns=\"http://www.w3.org/2000/svg\" height=\"24px\"viewBox=\"0 0 24 24\"\n",
              "       width=\"24px\">\n",
              "    <path d=\"M0 0h24v24H0V0z\" fill=\"none\"/>\n",
              "    <path d=\"M18.56 5.44l.94 2.06.94-2.06 2.06-.94-2.06-.94-.94-2.06-.94 2.06-2.06.94zm-11 1L8.5 8.5l.94-2.06 2.06-.94-2.06-.94L8.5 2.5l-.94 2.06-2.06.94zm10 10l.94 2.06.94-2.06 2.06-.94-2.06-.94-.94-2.06-.94 2.06-2.06.94z\"/><path d=\"M17.41 7.96l-1.37-1.37c-.4-.4-.92-.59-1.43-.59-.52 0-1.04.2-1.43.59L10.3 9.45l-7.72 7.72c-.78.78-.78 2.05 0 2.83L4 21.41c.39.39.9.59 1.41.59.51 0 1.02-.2 1.41-.59l7.78-7.78 2.81-2.81c.8-.78.8-2.07 0-2.86zM5.41 20L4 18.59l7.72-7.72 1.47 1.35L5.41 20z\"/>\n",
              "  </svg>\n",
              "      </button>\n",
              "      \n",
              "  <style>\n",
              "    .colab-df-container {\n",
              "      display:flex;\n",
              "      flex-wrap:wrap;\n",
              "      gap: 12px;\n",
              "    }\n",
              "\n",
              "    .colab-df-convert {\n",
              "      background-color: #E8F0FE;\n",
              "      border: none;\n",
              "      border-radius: 50%;\n",
              "      cursor: pointer;\n",
              "      display: none;\n",
              "      fill: #1967D2;\n",
              "      height: 32px;\n",
              "      padding: 0 0 0 0;\n",
              "      width: 32px;\n",
              "    }\n",
              "\n",
              "    .colab-df-convert:hover {\n",
              "      background-color: #E2EBFA;\n",
              "      box-shadow: 0px 1px 2px rgba(60, 64, 67, 0.3), 0px 1px 3px 1px rgba(60, 64, 67, 0.15);\n",
              "      fill: #174EA6;\n",
              "    }\n",
              "\n",
              "    [theme=dark] .colab-df-convert {\n",
              "      background-color: #3B4455;\n",
              "      fill: #D2E3FC;\n",
              "    }\n",
              "\n",
              "    [theme=dark] .colab-df-convert:hover {\n",
              "      background-color: #434B5C;\n",
              "      box-shadow: 0px 1px 3px 1px rgba(0, 0, 0, 0.15);\n",
              "      filter: drop-shadow(0px 1px 2px rgba(0, 0, 0, 0.3));\n",
              "      fill: #FFFFFF;\n",
              "    }\n",
              "  </style>\n",
              "\n",
              "      <script>\n",
              "        const buttonEl =\n",
              "          document.querySelector('#df-bae9ef78-afa1-4e37-a5e0-6e9fb492e55d button.colab-df-convert');\n",
              "        buttonEl.style.display =\n",
              "          google.colab.kernel.accessAllowed ? 'block' : 'none';\n",
              "\n",
              "        async function convertToInteractive(key) {\n",
              "          const element = document.querySelector('#df-bae9ef78-afa1-4e37-a5e0-6e9fb492e55d');\n",
              "          const dataTable =\n",
              "            await google.colab.kernel.invokeFunction('convertToInteractive',\n",
              "                                                     [key], {});\n",
              "          if (!dataTable) return;\n",
              "\n",
              "          const docLinkHtml = 'Like what you see? Visit the ' +\n",
              "            '<a target=\"_blank\" href=https://colab.research.google.com/notebooks/data_table.ipynb>data table notebook</a>'\n",
              "            + ' to learn more about interactive tables.';\n",
              "          element.innerHTML = '';\n",
              "          dataTable['output_type'] = 'display_data';\n",
              "          await google.colab.output.renderOutput(dataTable, element);\n",
              "          const docLink = document.createElement('div');\n",
              "          docLink.innerHTML = docLinkHtml;\n",
              "          element.appendChild(docLink);\n",
              "        }\n",
              "      </script>\n",
              "    </div>\n",
              "  </div>\n",
              "  "
            ]
          },
          "metadata": {},
          "execution_count": 46
        }
      ]
    },
    {
      "cell_type": "code",
      "source": [
        "generate_days_histogram(nyt_eval_df[nyt_eval_df['year'] >= 2010])"
      ],
      "metadata": {
        "colab": {
          "base_uri": "https://localhost:8080/",
          "height": 478
        },
        "id": "940hijT-IIvQ",
        "outputId": "b2d50c84-b4e2-4707-9434-d21006c50490"
      },
      "execution_count": null,
      "outputs": [
        {
          "output_type": "stream",
          "name": "stdout",
          "text": [
            "Sunday  Values is  8550  Which in proportion to other days is:  0.146\n",
            "Monday  Values is  8942  Which in proportion to other days is:  0.153\n",
            "Tuesday  Values is  8888  Which in proportion to other days is:  0.152\n",
            "Wednesday  Values is  8632  Which in proportion to other days is:  0.148\n",
            "Thursday  Values is  8454  Which in proportion to other days is:  0.145\n",
            "Friday  Values is  7605  Which in proportion to other days is:  0.13\n",
            "Saturday  Values is  7310  Which in proportion to other days is:  0.125\n"
          ]
        },
        {
          "output_type": "display_data",
          "data": {
            "text/plain": [
              "<Figure size 720x360 with 1 Axes>"
            ],
            "image/png": "[encoded data removed]"
          },
          "metadata": {
            "needs_background": "light"
          }
        }
      ]
    },
    {
      "cell_type": "code",
      "source": [
        "nyt_test_df[nyt_test_df['year'] >= 2010]"
      ],
      "metadata": {
        "colab": {
          "base_uri": "https://localhost:8080/",
          "height": 423
        },
        "id": "dE749GnvILkR",
        "outputId": "9a8001aa-4176-43ed-b182-cfb6624c26c4"
      },
      "execution_count": null,
      "outputs": [
        {
          "output_type": "execute_result",
          "data": {
            "text/plain": [
              "             Date      Word                                            Clue  \\\n",
              "0      2021-10-31       SRO                     Inits. for a theatrical hit   \n",
              "1      2021-10-31    STASIS                            State of equilibrium   \n",
              "2      2021-10-31     SACHS  Samuel ___, business partner of Marcus Goldman   \n",
              "3      2021-10-31       YES                                   \"You betcha!\"   \n",
              "4      2021-10-31  TOETOTOE                                     Mano a mano   \n",
              "...           ...       ...                                             ...   \n",
              "28725  2010-01-02     TYROS                                 Pros' opposites   \n",
              "28726  2010-01-01   LAZARUS                 New Testament miracle recipient   \n",
              "28727  2010-01-01       DUI                            Police blotter abbr.   \n",
              "28728  2010-01-01       OAK                     One of Iowa's state symbols   \n",
              "28729  2010-01-01     LEPER                 New Testament miracle recipient   \n",
              "\n",
              "      day_of_week  year  \n",
              "0          Sunday  2021  \n",
              "1          Sunday  2021  \n",
              "2          Sunday  2021  \n",
              "3          Sunday  2021  \n",
              "4          Sunday  2021  \n",
              "...           ...   ...  \n",
              "28725    Saturday  2010  \n",
              "28726      Friday  2010  \n",
              "28727      Friday  2010  \n",
              "28728      Friday  2010  \n",
              "28729      Friday  2010  \n",
              "\n",
              "[28730 rows x 5 columns]"
            ],
            "text/html": [
              "\n",
              "  <div id=\"df-29959b34-61c7-4211-86af-0038b7d6ed10\">\n",
              "    <div class=\"colab-df-container\">\n",
              "      <div>\n",
              "<style scoped>\n",
              "    .dataframe tbody tr th:only-of-type {\n",
              "        vertical-align: middle;\n",
              "    }\n",
              "\n",
              "    .dataframe tbody tr th {\n",
              "        vertical-align: top;\n",
              "    }\n",
              "\n",
              "    .dataframe thead th {\n",
              "        text-align: right;\n",
              "    }\n",
              "</style>\n",
              "<table border=\"1\" class=\"dataframe\">\n",
              "  <thead>\n",
              "    <tr style=\"text-align: right;\">\n",
              "      <th></th>\n",
              "      <th>Date</th>\n",
              "      <th>Word</th>\n",
              "      <th>Clue</th>\n",
              "      <th>day_of_week</th>\n",
              "      <th>year</th>\n",
              "    </tr>\n",
              "  </thead>\n",
              "  <tbody>\n",
              "    <tr>\n",
              "      <th>0</th>\n",
              "      <td>2021-10-31</td>\n",
              "      <td>SRO</td>\n",
              "      <td>Inits. for a theatrical hit</td>\n",
              "      <td>Sunday</td>\n",
              "      <td>2021</td>\n",
              "    </tr>\n",
              "    <tr>\n",
              "      <th>1</th>\n",
              "      <td>2021-10-31</td>\n",
              "      <td>STASIS</td>\n",
              "      <td>State of equilibrium</td>\n",
              "      <td>Sunday</td>\n",
              "      <td>2021</td>\n",
              "    </tr>\n",
              "    <tr>\n",
              "      <th>2</th>\n",
              "      <td>2021-10-31</td>\n",
              "      <td>SACHS</td>\n",
              "      <td>Samuel ___, business partner of Marcus Goldman</td>\n",
              "      <td>Sunday</td>\n",
              "      <td>2021</td>\n",
              "    </tr>\n",
              "    <tr>\n",
              "      <th>3</th>\n",
              "      <td>2021-10-31</td>\n",
              "      <td>YES</td>\n",
              "      <td>\"You betcha!\"</td>\n",
              "      <td>Sunday</td>\n",
              "      <td>2021</td>\n",
              "    </tr>\n",
              "    <tr>\n",
              "      <th>4</th>\n",
              "      <td>2021-10-31</td>\n",
              "      <td>TOETOTOE</td>\n",
              "      <td>Mano a mano</td>\n",
              "      <td>Sunday</td>\n",
              "      <td>2021</td>\n",
              "    </tr>\n",
              "    <tr>\n",
              "      <th>...</th>\n",
              "      <td>...</td>\n",
              "      <td>...</td>\n",
              "      <td>...</td>\n",
              "      <td>...</td>\n",
              "      <td>...</td>\n",
              "    </tr>\n",
              "    <tr>\n",
              "      <th>28725</th>\n",
              "      <td>2010-01-02</td>\n",
              "      <td>TYROS</td>\n",
              "      <td>Pros' opposites</td>\n",
              "      <td>Saturday</td>\n",
              "      <td>2010</td>\n",
              "    </tr>\n",
              "    <tr>\n",
              "      <th>28726</th>\n",
              "      <td>2010-01-01</td>\n",
              "      <td>LAZARUS</td>\n",
              "      <td>New Testament miracle recipient</td>\n",
              "      <td>Friday</td>\n",
              "      <td>2010</td>\n",
              "    </tr>\n",
              "    <tr>\n",
              "      <th>28727</th>\n",
              "      <td>2010-01-01</td>\n",
              "      <td>DUI</td>\n",
              "      <td>Police blotter abbr.</td>\n",
              "      <td>Friday</td>\n",
              "      <td>2010</td>\n",
              "    </tr>\n",
              "    <tr>\n",
              "      <th>28728</th>\n",
              "      <td>2010-01-01</td>\n",
              "      <td>OAK</td>\n",
              "      <td>One of Iowa's state symbols</td>\n",
              "      <td>Friday</td>\n",
              "      <td>2010</td>\n",
              "    </tr>\n",
              "    <tr>\n",
              "      <th>28729</th>\n",
              "      <td>2010-01-01</td>\n",
              "      <td>LEPER</td>\n",
              "      <td>New Testament miracle recipient</td>\n",
              "      <td>Friday</td>\n",
              "      <td>2010</td>\n",
              "    </tr>\n",
              "  </tbody>\n",
              "</table>\n",
              "<p>28730 rows × 5 columns</p>\n",
              "</div>\n",
              "      <button class=\"colab-df-convert\" onclick=\"convertToInteractive('df-29959b34-61c7-4211-86af-0038b7d6ed10')\"\n",
              "              title=\"Convert this dataframe to an interactive table.\"\n",
              "              style=\"display:none;\">\n",
              "        \n",
              "  <svg xmlns=\"http://www.w3.org/2000/svg\" height=\"24px\"viewBox=\"0 0 24 24\"\n",
              "       width=\"24px\">\n",
              "    <path d=\"M0 0h24v24H0V0z\" fill=\"none\"/>\n",
              "    <path d=\"M18.56 5.44l.94 2.06.94-2.06 2.06-.94-2.06-.94-.94-2.06-.94 2.06-2.06.94zm-11 1L8.5 8.5l.94-2.06 2.06-.94-2.06-.94L8.5 2.5l-.94 2.06-2.06.94zm10 10l.94 2.06.94-2.06 2.06-.94-2.06-.94-.94-2.06-.94 2.06-2.06.94z\"/><path d=\"M17.41 7.96l-1.37-1.37c-.4-.4-.92-.59-1.43-.59-.52 0-1.04.2-1.43.59L10.3 9.45l-7.72 7.72c-.78.78-.78 2.05 0 2.83L4 21.41c.39.39.9.59 1.41.59.51 0 1.02-.2 1.41-.59l7.78-7.78 2.81-2.81c.8-.78.8-2.07 0-2.86zM5.41 20L4 18.59l7.72-7.72 1.47 1.35L5.41 20z\"/>\n",
              "  </svg>\n",
              "      </button>\n",
              "      \n",
              "  <style>\n",
              "    .colab-df-container {\n",
              "      display:flex;\n",
              "      flex-wrap:wrap;\n",
              "      gap: 12px;\n",
              "    }\n",
              "\n",
              "    .colab-df-convert {\n",
              "      background-color: #E8F0FE;\n",
              "      border: none;\n",
              "      border-radius: 50%;\n",
              "      cursor: pointer;\n",
              "      display: none;\n",
              "      fill: #1967D2;\n",
              "      height: 32px;\n",
              "      padding: 0 0 0 0;\n",
              "      width: 32px;\n",
              "    }\n",
              "\n",
              "    .colab-df-convert:hover {\n",
              "      background-color: #E2EBFA;\n",
              "      box-shadow: 0px 1px 2px rgba(60, 64, 67, 0.3), 0px 1px 3px 1px rgba(60, 64, 67, 0.15);\n",
              "      fill: #174EA6;\n",
              "    }\n",
              "\n",
              "    [theme=dark] .colab-df-convert {\n",
              "      background-color: #3B4455;\n",
              "      fill: #D2E3FC;\n",
              "    }\n",
              "\n",
              "    [theme=dark] .colab-df-convert:hover {\n",
              "      background-color: #434B5C;\n",
              "      box-shadow: 0px 1px 3px 1px rgba(0, 0, 0, 0.15);\n",
              "      filter: drop-shadow(0px 1px 2px rgba(0, 0, 0, 0.3));\n",
              "      fill: #FFFFFF;\n",
              "    }\n",
              "  </style>\n",
              "\n",
              "      <script>\n",
              "        const buttonEl =\n",
              "          document.querySelector('#df-29959b34-61c7-4211-86af-0038b7d6ed10 button.colab-df-convert');\n",
              "        buttonEl.style.display =\n",
              "          google.colab.kernel.accessAllowed ? 'block' : 'none';\n",
              "\n",
              "        async function convertToInteractive(key) {\n",
              "          const element = document.querySelector('#df-29959b34-61c7-4211-86af-0038b7d6ed10');\n",
              "          const dataTable =\n",
              "            await google.colab.kernel.invokeFunction('convertToInteractive',\n",
              "                                                     [key], {});\n",
              "          if (!dataTable) return;\n",
              "\n",
              "          const docLinkHtml = 'Like what you see? Visit the ' +\n",
              "            '<a target=\"_blank\" href=https://colab.research.google.com/notebooks/data_table.ipynb>data table notebook</a>'\n",
              "            + ' to learn more about interactive tables.';\n",
              "          element.innerHTML = '';\n",
              "          dataTable['output_type'] = 'display_data';\n",
              "          await google.colab.output.renderOutput(dataTable, element);\n",
              "          const docLink = document.createElement('div');\n",
              "          docLink.innerHTML = docLinkHtml;\n",
              "          element.appendChild(docLink);\n",
              "        }\n",
              "      </script>\n",
              "    </div>\n",
              "  </div>\n",
              "  "
            ]
          },
          "metadata": {},
          "execution_count": 48
        }
      ]
    },
    {
      "cell_type": "code",
      "source": [
        "generate_days_histogram(nyt_test_df[nyt_test_df['year'] >= 2010])"
      ],
      "metadata": {
        "colab": {
          "base_uri": "https://localhost:8080/",
          "height": 478
        },
        "id": "5TNTMJ8CIRTh",
        "outputId": "e0d852d3-1206-432f-a1f7-b338d4af2ee5"
      },
      "execution_count": null,
      "outputs": [
        {
          "output_type": "stream",
          "name": "stdout",
          "text": [
            "Sunday  Values is  4239  Which in proportion to other days is:  0.148\n",
            "Monday  Values is  4367  Which in proportion to other days is:  0.152\n",
            "Tuesday  Values is  4279  Which in proportion to other days is:  0.149\n",
            "Wednesday  Values is  4237  Which in proportion to other days is:  0.147\n",
            "Thursday  Values is  4223  Which in proportion to other days is:  0.147\n",
            "Friday  Values is  3698  Which in proportion to other days is:  0.129\n",
            "Saturday  Values is  3687  Which in proportion to other days is:  0.128\n"
          ]
        },
        {
          "output_type": "display_data",
          "data": {
            "text/plain": [
              "<Figure size 720x360 with 1 Axes>"
            ],
            "image/png": "[encoded data removed]"
          },
          "metadata": {
            "needs_background": "light"
          }
        }
      ]
    },
    {
      "cell_type": "code",
      "source": [
        "nyt_train_df[nyt_train_df['year'] >= 2010].to_csv('/content/drive/MyDrive/NLP/Project/nytcrosswords_balanced_days_train_2010.csv')\n",
        "nyt_eval_df[nyt_eval_df['year'] >= 2010].to_csv('/content/drive/MyDrive/NLP/Project/nytcrosswords_balanced_days_eval_2010.csv')\n",
        "nyt_test_df[nyt_test_df['year'] >= 2010].to_csv('/content/drive/MyDrive/NLP/Project/nytcrosswords_balanced_days_test_2010.csv')"
      ],
      "metadata": {
        "id": "T1oZMR3JIVXZ"
      },
      "execution_count": null,
      "outputs": []
    },
    {
      "cell_type": "markdown",
      "source": [
        "**Lets try and split by years see where this gets us in terms of size**"
      ],
      "metadata": {
        "id": "dTvC-a0POTSQ"
      }
    },
    {
      "cell_type": "code",
      "source": [
        "nyt_train_df_2010 = pd.read_csv('/content/drive/MyDrive/NLP/Project/nytcrosswords_balanced_days_train_2010.csv',parse_dates = ['Date'])\n",
        "nyt_eval_df_2010 = pd.read_csv('/content/drive/MyDrive/NLP/Project/nytcrosswords_balanced_days_eval_2010.csv',parse_dates = ['Date'])\n",
        "nyt_test_df_2010 = pd.read_csv('/content/drive/MyDrive/NLP/Project/nytcrosswords_balanced_days_test_2010.csv',parse_dates = ['Date'])"
      ],
      "metadata": {
        "id": "jh-2e1IRI641"
      },
      "execution_count": 38,
      "outputs": []
    },
    {
      "cell_type": "code",
      "source": [
        "nyt_train_df_2010.drop(columns = ['Unnamed: 0'],inplace = True)\n",
        "nyt_train_df_2010"
      ],
      "metadata": {
        "colab": {
          "base_uri": "https://localhost:8080/",
          "height": 423
        },
        "id": "rmxOhKnXOSyL",
        "outputId": "eab29793-ac18-42a6-ee90-aaad285be09f"
      },
      "execution_count": 39,
      "outputs": [
        {
          "output_type": "execute_result",
          "data": {
            "text/plain": [
              "             Date           Word                                         Clue  \\\n",
              "0      2016-08-20            DEW                                 Wet blanket?   \n",
              "1      2020-10-21           SHOP                              Union workplace   \n",
              "2      2015-01-28           AWET                               Mad as ___ hen   \n",
              "3      2011-08-15         COOPER            \"The Last of the Mohicans\" author   \n",
              "4      2012-01-30          ISLES                       Spots in the Caribbean   \n",
              "...           ...            ...                                          ...   \n",
              "203506 2020-12-22            OLD                                         Aged   \n",
              "203507 2011-01-23            LBS                               Dumbbell abbr.   \n",
              "203508 2017-03-05  ROADSIDEDINER   [Circled letters]-advertised establishment   \n",
              "203509 2019-11-20            ERA  Baseball stat that's better when it's lower   \n",
              "203510 2014-11-12          SUMAC                                   Poison ___   \n",
              "\n",
              "       day_of_week  year  \n",
              "0         Saturday  2016  \n",
              "1        Wednesday  2020  \n",
              "2        Wednesday  2015  \n",
              "3           Monday  2011  \n",
              "4           Monday  2012  \n",
              "...            ...   ...  \n",
              "203506     Tuesday  2020  \n",
              "203507      Sunday  2011  \n",
              "203508      Sunday  2017  \n",
              "203509   Wednesday  2019  \n",
              "203510   Wednesday  2014  \n",
              "\n",
              "[203511 rows x 5 columns]"
            ],
            "text/html": [
              "\n",
              "  <div id=\"df-36ba1b8a-9936-477f-baf9-65505591d3e6\">\n",
              "    <div class=\"colab-df-container\">\n",
              "      <div>\n",
              "<style scoped>\n",
              "    .dataframe tbody tr th:only-of-type {\n",
              "        vertical-align: middle;\n",
              "    }\n",
              "\n",
              "    .dataframe tbody tr th {\n",
              "        vertical-align: top;\n",
              "    }\n",
              "\n",
              "    .dataframe thead th {\n",
              "        text-align: right;\n",
              "    }\n",
              "</style>\n",
              "<table border=\"1\" class=\"dataframe\">\n",
              "  <thead>\n",
              "    <tr style=\"text-align: right;\">\n",
              "      <th></th>\n",
              "      <th>Date</th>\n",
              "      <th>Word</th>\n",
              "      <th>Clue</th>\n",
              "      <th>day_of_week</th>\n",
              "      <th>year</th>\n",
              "    </tr>\n",
              "  </thead>\n",
              "  <tbody>\n",
              "    <tr>\n",
              "      <th>0</th>\n",
              "      <td>2016-08-20</td>\n",
              "      <td>DEW</td>\n",
              "      <td>Wet blanket?</td>\n",
              "      <td>Saturday</td>\n",
              "      <td>2016</td>\n",
              "    </tr>\n",
              "    <tr>\n",
              "      <th>1</th>\n",
              "      <td>2020-10-21</td>\n",
              "      <td>SHOP</td>\n",
              "      <td>Union workplace</td>\n",
              "      <td>Wednesday</td>\n",
              "      <td>2020</td>\n",
              "    </tr>\n",
              "    <tr>\n",
              "      <th>2</th>\n",
              "      <td>2015-01-28</td>\n",
              "      <td>AWET</td>\n",
              "      <td>Mad as ___ hen</td>\n",
              "      <td>Wednesday</td>\n",
              "      <td>2015</td>\n",
              "    </tr>\n",
              "    <tr>\n",
              "      <th>3</th>\n",
              "      <td>2011-08-15</td>\n",
              "      <td>COOPER</td>\n",
              "      <td>\"The Last of the Mohicans\" author</td>\n",
              "      <td>Monday</td>\n",
              "      <td>2011</td>\n",
              "    </tr>\n",
              "    <tr>\n",
              "      <th>4</th>\n",
              "      <td>2012-01-30</td>\n",
              "      <td>ISLES</td>\n",
              "      <td>Spots in the Caribbean</td>\n",
              "      <td>Monday</td>\n",
              "      <td>2012</td>\n",
              "    </tr>\n",
              "    <tr>\n",
              "      <th>...</th>\n",
              "      <td>...</td>\n",
              "      <td>...</td>\n",
              "      <td>...</td>\n",
              "      <td>...</td>\n",
              "      <td>...</td>\n",
              "    </tr>\n",
              "    <tr>\n",
              "      <th>203506</th>\n",
              "      <td>2020-12-22</td>\n",
              "      <td>OLD</td>\n",
              "      <td>Aged</td>\n",
              "      <td>Tuesday</td>\n",
              "      <td>2020</td>\n",
              "    </tr>\n",
              "    <tr>\n",
              "      <th>203507</th>\n",
              "      <td>2011-01-23</td>\n",
              "      <td>LBS</td>\n",
              "      <td>Dumbbell abbr.</td>\n",
              "      <td>Sunday</td>\n",
              "      <td>2011</td>\n",
              "    </tr>\n",
              "    <tr>\n",
              "      <th>203508</th>\n",
              "      <td>2017-03-05</td>\n",
              "      <td>ROADSIDEDINER</td>\n",
              "      <td>[Circled letters]-advertised establishment</td>\n",
              "      <td>Sunday</td>\n",
              "      <td>2017</td>\n",
              "    </tr>\n",
              "    <tr>\n",
              "      <th>203509</th>\n",
              "      <td>2019-11-20</td>\n",
              "      <td>ERA</td>\n",
              "      <td>Baseball stat that's better when it's lower</td>\n",
              "      <td>Wednesday</td>\n",
              "      <td>2019</td>\n",
              "    </tr>\n",
              "    <tr>\n",
              "      <th>203510</th>\n",
              "      <td>2014-11-12</td>\n",
              "      <td>SUMAC</td>\n",
              "      <td>Poison ___</td>\n",
              "      <td>Wednesday</td>\n",
              "      <td>2014</td>\n",
              "    </tr>\n",
              "  </tbody>\n",
              "</table>\n",
              "<p>203511 rows × 5 columns</p>\n",
              "</div>\n",
              "      <button class=\"colab-df-convert\" onclick=\"convertToInteractive('df-36ba1b8a-9936-477f-baf9-65505591d3e6')\"\n",
              "              title=\"Convert this dataframe to an interactive table.\"\n",
              "              style=\"display:none;\">\n",
              "        \n",
              "  <svg xmlns=\"http://www.w3.org/2000/svg\" height=\"24px\"viewBox=\"0 0 24 24\"\n",
              "       width=\"24px\">\n",
              "    <path d=\"M0 0h24v24H0V0z\" fill=\"none\"/>\n",
              "    <path d=\"M18.56 5.44l.94 2.06.94-2.06 2.06-.94-2.06-.94-.94-2.06-.94 2.06-2.06.94zm-11 1L8.5 8.5l.94-2.06 2.06-.94-2.06-.94L8.5 2.5l-.94 2.06-2.06.94zm10 10l.94 2.06.94-2.06 2.06-.94-2.06-.94-.94-2.06-.94 2.06-2.06.94z\"/><path d=\"M17.41 7.96l-1.37-1.37c-.4-.4-.92-.59-1.43-.59-.52 0-1.04.2-1.43.59L10.3 9.45l-7.72 7.72c-.78.78-.78 2.05 0 2.83L4 21.41c.39.39.9.59 1.41.59.51 0 1.02-.2 1.41-.59l7.78-7.78 2.81-2.81c.8-.78.8-2.07 0-2.86zM5.41 20L4 18.59l7.72-7.72 1.47 1.35L5.41 20z\"/>\n",
              "  </svg>\n",
              "      </button>\n",
              "      \n",
              "  <style>\n",
              "    .colab-df-container {\n",
              "      display:flex;\n",
              "      flex-wrap:wrap;\n",
              "      gap: 12px;\n",
              "    }\n",
              "\n",
              "    .colab-df-convert {\n",
              "      background-color: #E8F0FE;\n",
              "      border: none;\n",
              "      border-radius: 50%;\n",
              "      cursor: pointer;\n",
              "      display: none;\n",
              "      fill: #1967D2;\n",
              "      height: 32px;\n",
              "      padding: 0 0 0 0;\n",
              "      width: 32px;\n",
              "    }\n",
              "\n",
              "    .colab-df-convert:hover {\n",
              "      background-color: #E2EBFA;\n",
              "      box-shadow: 0px 1px 2px rgba(60, 64, 67, 0.3), 0px 1px 3px 1px rgba(60, 64, 67, 0.15);\n",
              "      fill: #174EA6;\n",
              "    }\n",
              "\n",
              "    [theme=dark] .colab-df-convert {\n",
              "      background-color: #3B4455;\n",
              "      fill: #D2E3FC;\n",
              "    }\n",
              "\n",
              "    [theme=dark] .colab-df-convert:hover {\n",
              "      background-color: #434B5C;\n",
              "      box-shadow: 0px 1px 3px 1px rgba(0, 0, 0, 0.15);\n",
              "      filter: drop-shadow(0px 1px 2px rgba(0, 0, 0, 0.3));\n",
              "      fill: #FFFFFF;\n",
              "    }\n",
              "  </style>\n",
              "\n",
              "      <script>\n",
              "        const buttonEl =\n",
              "          document.querySelector('#df-36ba1b8a-9936-477f-baf9-65505591d3e6 button.colab-df-convert');\n",
              "        buttonEl.style.display =\n",
              "          google.colab.kernel.accessAllowed ? 'block' : 'none';\n",
              "\n",
              "        async function convertToInteractive(key) {\n",
              "          const element = document.querySelector('#df-36ba1b8a-9936-477f-baf9-65505591d3e6');\n",
              "          const dataTable =\n",
              "            await google.colab.kernel.invokeFunction('convertToInteractive',\n",
              "                                                     [key], {});\n",
              "          if (!dataTable) return;\n",
              "\n",
              "          const docLinkHtml = 'Like what you see? Visit the ' +\n",
              "            '<a target=\"_blank\" href=https://colab.research.google.com/notebooks/data_table.ipynb>data table notebook</a>'\n",
              "            + ' to learn more about interactive tables.';\n",
              "          element.innerHTML = '';\n",
              "          dataTable['output_type'] = 'display_data';\n",
              "          await google.colab.output.renderOutput(dataTable, element);\n",
              "          const docLink = document.createElement('div');\n",
              "          docLink.innerHTML = docLinkHtml;\n",
              "          element.appendChild(docLink);\n",
              "        }\n",
              "      </script>\n",
              "    </div>\n",
              "  </div>\n",
              "  "
            ]
          },
          "metadata": {},
          "execution_count": 39
        }
      ]
    },
    {
      "cell_type": "code",
      "source": [
        "nyt_eval_df_2010.drop(columns = ['Unnamed: 0'],inplace = True)\n",
        "nyt_eval_df_2010"
      ],
      "metadata": {
        "colab": {
          "base_uri": "https://localhost:8080/",
          "height": 423
        },
        "id": "Aw7fM4tOOfAT",
        "outputId": "c51dceec-394d-463d-b225-0eb25aa7862a"
      },
      "execution_count": 40,
      "outputs": [
        {
          "output_type": "execute_result",
          "data": {
            "text/plain": [
              "            Date     Word                              Clue day_of_week  year\n",
              "0     2015-09-07  INSPIRE                          Motivate      Monday  2015\n",
              "1     2017-10-29    ALONE                              Stag      Sunday  2017\n",
              "2     2020-08-11    EDGES          Things that spheres lack     Tuesday  2020\n",
              "3     2018-12-17     TYKE                         Young 'un      Monday  2018\n",
              "4     2010-06-16     MARV               Sportscaster Albert   Wednesday  2010\n",
              "...          ...      ...                               ...         ...   ...\n",
              "58376 2017-10-12    ATEUP  Believed with no questions asked    Thursday  2017\n",
              "58377 2011-08-29     SILT    Deposit around a river's mouth      Monday  2011\n",
              "58378 2016-09-14  UTILITY                      Gas or water   Wednesday  2016\n",
              "58379 2020-10-17      CRI                Shout, in Chamonix    Saturday  2020\n",
              "58380 2020-06-29     GOLD                 Top Olympic medal      Monday  2020\n",
              "\n",
              "[58381 rows x 5 columns]"
            ],
            "text/html": [
              "\n",
              "  <div id=\"df-34e2a1c1-31da-4ed6-b376-6933b19479c0\">\n",
              "    <div class=\"colab-df-container\">\n",
              "      <div>\n",
              "<style scoped>\n",
              "    .dataframe tbody tr th:only-of-type {\n",
              "        vertical-align: middle;\n",
              "    }\n",
              "\n",
              "    .dataframe tbody tr th {\n",
              "        vertical-align: top;\n",
              "    }\n",
              "\n",
              "    .dataframe thead th {\n",
              "        text-align: right;\n",
              "    }\n",
              "</style>\n",
              "<table border=\"1\" class=\"dataframe\">\n",
              "  <thead>\n",
              "    <tr style=\"text-align: right;\">\n",
              "      <th></th>\n",
              "      <th>Date</th>\n",
              "      <th>Word</th>\n",
              "      <th>Clue</th>\n",
              "      <th>day_of_week</th>\n",
              "      <th>year</th>\n",
              "    </tr>\n",
              "  </thead>\n",
              "  <tbody>\n",
              "    <tr>\n",
              "      <th>0</th>\n",
              "      <td>2015-09-07</td>\n",
              "      <td>INSPIRE</td>\n",
              "      <td>Motivate</td>\n",
              "      <td>Monday</td>\n",
              "      <td>2015</td>\n",
              "    </tr>\n",
              "    <tr>\n",
              "      <th>1</th>\n",
              "      <td>2017-10-29</td>\n",
              "      <td>ALONE</td>\n",
              "      <td>Stag</td>\n",
              "      <td>Sunday</td>\n",
              "      <td>2017</td>\n",
              "    </tr>\n",
              "    <tr>\n",
              "      <th>2</th>\n",
              "      <td>2020-08-11</td>\n",
              "      <td>EDGES</td>\n",
              "      <td>Things that spheres lack</td>\n",
              "      <td>Tuesday</td>\n",
              "      <td>2020</td>\n",
              "    </tr>\n",
              "    <tr>\n",
              "      <th>3</th>\n",
              "      <td>2018-12-17</td>\n",
              "      <td>TYKE</td>\n",
              "      <td>Young 'un</td>\n",
              "      <td>Monday</td>\n",
              "      <td>2018</td>\n",
              "    </tr>\n",
              "    <tr>\n",
              "      <th>4</th>\n",
              "      <td>2010-06-16</td>\n",
              "      <td>MARV</td>\n",
              "      <td>Sportscaster Albert</td>\n",
              "      <td>Wednesday</td>\n",
              "      <td>2010</td>\n",
              "    </tr>\n",
              "    <tr>\n",
              "      <th>...</th>\n",
              "      <td>...</td>\n",
              "      <td>...</td>\n",
              "      <td>...</td>\n",
              "      <td>...</td>\n",
              "      <td>...</td>\n",
              "    </tr>\n",
              "    <tr>\n",
              "      <th>58376</th>\n",
              "      <td>2017-10-12</td>\n",
              "      <td>ATEUP</td>\n",
              "      <td>Believed with no questions asked</td>\n",
              "      <td>Thursday</td>\n",
              "      <td>2017</td>\n",
              "    </tr>\n",
              "    <tr>\n",
              "      <th>58377</th>\n",
              "      <td>2011-08-29</td>\n",
              "      <td>SILT</td>\n",
              "      <td>Deposit around a river's mouth</td>\n",
              "      <td>Monday</td>\n",
              "      <td>2011</td>\n",
              "    </tr>\n",
              "    <tr>\n",
              "      <th>58378</th>\n",
              "      <td>2016-09-14</td>\n",
              "      <td>UTILITY</td>\n",
              "      <td>Gas or water</td>\n",
              "      <td>Wednesday</td>\n",
              "      <td>2016</td>\n",
              "    </tr>\n",
              "    <tr>\n",
              "      <th>58379</th>\n",
              "      <td>2020-10-17</td>\n",
              "      <td>CRI</td>\n",
              "      <td>Shout, in Chamonix</td>\n",
              "      <td>Saturday</td>\n",
              "      <td>2020</td>\n",
              "    </tr>\n",
              "    <tr>\n",
              "      <th>58380</th>\n",
              "      <td>2020-06-29</td>\n",
              "      <td>GOLD</td>\n",
              "      <td>Top Olympic medal</td>\n",
              "      <td>Monday</td>\n",
              "      <td>2020</td>\n",
              "    </tr>\n",
              "  </tbody>\n",
              "</table>\n",
              "<p>58381 rows × 5 columns</p>\n",
              "</div>\n",
              "      <button class=\"colab-df-convert\" onclick=\"convertToInteractive('df-34e2a1c1-31da-4ed6-b376-6933b19479c0')\"\n",
              "              title=\"Convert this dataframe to an interactive table.\"\n",
              "              style=\"display:none;\">\n",
              "        \n",
              "  <svg xmlns=\"http://www.w3.org/2000/svg\" height=\"24px\"viewBox=\"0 0 24 24\"\n",
              "       width=\"24px\">\n",
              "    <path d=\"M0 0h24v24H0V0z\" fill=\"none\"/>\n",
              "    <path d=\"M18.56 5.44l.94 2.06.94-2.06 2.06-.94-2.06-.94-.94-2.06-.94 2.06-2.06.94zm-11 1L8.5 8.5l.94-2.06 2.06-.94-2.06-.94L8.5 2.5l-.94 2.06-2.06.94zm10 10l.94 2.06.94-2.06 2.06-.94-2.06-.94-.94-2.06-.94 2.06-2.06.94z\"/><path d=\"M17.41 7.96l-1.37-1.37c-.4-.4-.92-.59-1.43-.59-.52 0-1.04.2-1.43.59L10.3 9.45l-7.72 7.72c-.78.78-.78 2.05 0 2.83L4 21.41c.39.39.9.59 1.41.59.51 0 1.02-.2 1.41-.59l7.78-7.78 2.81-2.81c.8-.78.8-2.07 0-2.86zM5.41 20L4 18.59l7.72-7.72 1.47 1.35L5.41 20z\"/>\n",
              "  </svg>\n",
              "      </button>\n",
              "      \n",
              "  <style>\n",
              "    .colab-df-container {\n",
              "      display:flex;\n",
              "      flex-wrap:wrap;\n",
              "      gap: 12px;\n",
              "    }\n",
              "\n",
              "    .colab-df-convert {\n",
              "      background-color: #E8F0FE;\n",
              "      border: none;\n",
              "      border-radius: 50%;\n",
              "      cursor: pointer;\n",
              "      display: none;\n",
              "      fill: #1967D2;\n",
              "      height: 32px;\n",
              "      padding: 0 0 0 0;\n",
              "      width: 32px;\n",
              "    }\n",
              "\n",
              "    .colab-df-convert:hover {\n",
              "      background-color: #E2EBFA;\n",
              "      box-shadow: 0px 1px 2px rgba(60, 64, 67, 0.3), 0px 1px 3px 1px rgba(60, 64, 67, 0.15);\n",
              "      fill: #174EA6;\n",
              "    }\n",
              "\n",
              "    [theme=dark] .colab-df-convert {\n",
              "      background-color: #3B4455;\n",
              "      fill: #D2E3FC;\n",
              "    }\n",
              "\n",
              "    [theme=dark] .colab-df-convert:hover {\n",
              "      background-color: #434B5C;\n",
              "      box-shadow: 0px 1px 3px 1px rgba(0, 0, 0, 0.15);\n",
              "      filter: drop-shadow(0px 1px 2px rgba(0, 0, 0, 0.3));\n",
              "      fill: #FFFFFF;\n",
              "    }\n",
              "  </style>\n",
              "\n",
              "      <script>\n",
              "        const buttonEl =\n",
              "          document.querySelector('#df-34e2a1c1-31da-4ed6-b376-6933b19479c0 button.colab-df-convert');\n",
              "        buttonEl.style.display =\n",
              "          google.colab.kernel.accessAllowed ? 'block' : 'none';\n",
              "\n",
              "        async function convertToInteractive(key) {\n",
              "          const element = document.querySelector('#df-34e2a1c1-31da-4ed6-b376-6933b19479c0');\n",
              "          const dataTable =\n",
              "            await google.colab.kernel.invokeFunction('convertToInteractive',\n",
              "                                                     [key], {});\n",
              "          if (!dataTable) return;\n",
              "\n",
              "          const docLinkHtml = 'Like what you see? Visit the ' +\n",
              "            '<a target=\"_blank\" href=https://colab.research.google.com/notebooks/data_table.ipynb>data table notebook</a>'\n",
              "            + ' to learn more about interactive tables.';\n",
              "          element.innerHTML = '';\n",
              "          dataTable['output_type'] = 'display_data';\n",
              "          await google.colab.output.renderOutput(dataTable, element);\n",
              "          const docLink = document.createElement('div');\n",
              "          docLink.innerHTML = docLinkHtml;\n",
              "          element.appendChild(docLink);\n",
              "        }\n",
              "      </script>\n",
              "    </div>\n",
              "  </div>\n",
              "  "
            ]
          },
          "metadata": {},
          "execution_count": 40
        }
      ]
    },
    {
      "cell_type": "code",
      "source": [
        "nyt_test_df_2010.drop(columns = ['Unnamed: 0'],inplace = True)\n",
        "nyt_test_df_2010"
      ],
      "metadata": {
        "colab": {
          "base_uri": "https://localhost:8080/",
          "height": 423
        },
        "id": "wp1-E7b1OhYI",
        "outputId": "4c5e0857-7b2c-4fb6-ef47-cbc1db164ccd"
      },
      "execution_count": 41,
      "outputs": [
        {
          "output_type": "execute_result",
          "data": {
            "text/plain": [
              "            Date      Word                                            Clue  \\\n",
              "0     2021-10-31       SRO                     Inits. for a theatrical hit   \n",
              "1     2021-10-31    STASIS                            State of equilibrium   \n",
              "2     2021-10-31     SACHS  Samuel ___, business partner of Marcus Goldman   \n",
              "3     2021-10-31       YES                                   \"You betcha!\"   \n",
              "4     2021-10-31  TOETOTOE                                     Mano a mano   \n",
              "...          ...       ...                                             ...   \n",
              "28725 2010-01-02     TYROS                                 Pros' opposites   \n",
              "28726 2010-01-01   LAZARUS                 New Testament miracle recipient   \n",
              "28727 2010-01-01       DUI                            Police blotter abbr.   \n",
              "28728 2010-01-01       OAK                     One of Iowa's state symbols   \n",
              "28729 2010-01-01     LEPER                 New Testament miracle recipient   \n",
              "\n",
              "      day_of_week  year  \n",
              "0          Sunday  2021  \n",
              "1          Sunday  2021  \n",
              "2          Sunday  2021  \n",
              "3          Sunday  2021  \n",
              "4          Sunday  2021  \n",
              "...           ...   ...  \n",
              "28725    Saturday  2010  \n",
              "28726      Friday  2010  \n",
              "28727      Friday  2010  \n",
              "28728      Friday  2010  \n",
              "28729      Friday  2010  \n",
              "\n",
              "[28730 rows x 5 columns]"
            ],
            "text/html": [
              "\n",
              "  <div id=\"df-6dfb7bc0-36f9-402d-8240-a82056f0dd21\">\n",
              "    <div class=\"colab-df-container\">\n",
              "      <div>\n",
              "<style scoped>\n",
              "    .dataframe tbody tr th:only-of-type {\n",
              "        vertical-align: middle;\n",
              "    }\n",
              "\n",
              "    .dataframe tbody tr th {\n",
              "        vertical-align: top;\n",
              "    }\n",
              "\n",
              "    .dataframe thead th {\n",
              "        text-align: right;\n",
              "    }\n",
              "</style>\n",
              "<table border=\"1\" class=\"dataframe\">\n",
              "  <thead>\n",
              "    <tr style=\"text-align: right;\">\n",
              "      <th></th>\n",
              "      <th>Date</th>\n",
              "      <th>Word</th>\n",
              "      <th>Clue</th>\n",
              "      <th>day_of_week</th>\n",
              "      <th>year</th>\n",
              "    </tr>\n",
              "  </thead>\n",
              "  <tbody>\n",
              "    <tr>\n",
              "      <th>0</th>\n",
              "      <td>2021-10-31</td>\n",
              "      <td>SRO</td>\n",
              "      <td>Inits. for a theatrical hit</td>\n",
              "      <td>Sunday</td>\n",
              "      <td>2021</td>\n",
              "    </tr>\n",
              "    <tr>\n",
              "      <th>1</th>\n",
              "      <td>2021-10-31</td>\n",
              "      <td>STASIS</td>\n",
              "      <td>State of equilibrium</td>\n",
              "      <td>Sunday</td>\n",
              "      <td>2021</td>\n",
              "    </tr>\n",
              "    <tr>\n",
              "      <th>2</th>\n",
              "      <td>2021-10-31</td>\n",
              "      <td>SACHS</td>\n",
              "      <td>Samuel ___, business partner of Marcus Goldman</td>\n",
              "      <td>Sunday</td>\n",
              "      <td>2021</td>\n",
              "    </tr>\n",
              "    <tr>\n",
              "      <th>3</th>\n",
              "      <td>2021-10-31</td>\n",
              "      <td>YES</td>\n",
              "      <td>\"You betcha!\"</td>\n",
              "      <td>Sunday</td>\n",
              "      <td>2021</td>\n",
              "    </tr>\n",
              "    <tr>\n",
              "      <th>4</th>\n",
              "      <td>2021-10-31</td>\n",
              "      <td>TOETOTOE</td>\n",
              "      <td>Mano a mano</td>\n",
              "      <td>Sunday</td>\n",
              "      <td>2021</td>\n",
              "    </tr>\n",
              "    <tr>\n",
              "      <th>...</th>\n",
              "      <td>...</td>\n",
              "      <td>...</td>\n",
              "      <td>...</td>\n",
              "      <td>...</td>\n",
              "      <td>...</td>\n",
              "    </tr>\n",
              "    <tr>\n",
              "      <th>28725</th>\n",
              "      <td>2010-01-02</td>\n",
              "      <td>TYROS</td>\n",
              "      <td>Pros' opposites</td>\n",
              "      <td>Saturday</td>\n",
              "      <td>2010</td>\n",
              "    </tr>\n",
              "    <tr>\n",
              "      <th>28726</th>\n",
              "      <td>2010-01-01</td>\n",
              "      <td>LAZARUS</td>\n",
              "      <td>New Testament miracle recipient</td>\n",
              "      <td>Friday</td>\n",
              "      <td>2010</td>\n",
              "    </tr>\n",
              "    <tr>\n",
              "      <th>28727</th>\n",
              "      <td>2010-01-01</td>\n",
              "      <td>DUI</td>\n",
              "      <td>Police blotter abbr.</td>\n",
              "      <td>Friday</td>\n",
              "      <td>2010</td>\n",
              "    </tr>\n",
              "    <tr>\n",
              "      <th>28728</th>\n",
              "      <td>2010-01-01</td>\n",
              "      <td>OAK</td>\n",
              "      <td>One of Iowa's state symbols</td>\n",
              "      <td>Friday</td>\n",
              "      <td>2010</td>\n",
              "    </tr>\n",
              "    <tr>\n",
              "      <th>28729</th>\n",
              "      <td>2010-01-01</td>\n",
              "      <td>LEPER</td>\n",
              "      <td>New Testament miracle recipient</td>\n",
              "      <td>Friday</td>\n",
              "      <td>2010</td>\n",
              "    </tr>\n",
              "  </tbody>\n",
              "</table>\n",
              "<p>28730 rows × 5 columns</p>\n",
              "</div>\n",
              "      <button class=\"colab-df-convert\" onclick=\"convertToInteractive('df-6dfb7bc0-36f9-402d-8240-a82056f0dd21')\"\n",
              "              title=\"Convert this dataframe to an interactive table.\"\n",
              "              style=\"display:none;\">\n",
              "        \n",
              "  <svg xmlns=\"http://www.w3.org/2000/svg\" height=\"24px\"viewBox=\"0 0 24 24\"\n",
              "       width=\"24px\">\n",
              "    <path d=\"M0 0h24v24H0V0z\" fill=\"none\"/>\n",
              "    <path d=\"M18.56 5.44l.94 2.06.94-2.06 2.06-.94-2.06-.94-.94-2.06-.94 2.06-2.06.94zm-11 1L8.5 8.5l.94-2.06 2.06-.94-2.06-.94L8.5 2.5l-.94 2.06-2.06.94zm10 10l.94 2.06.94-2.06 2.06-.94-2.06-.94-.94-2.06-.94 2.06-2.06.94z\"/><path d=\"M17.41 7.96l-1.37-1.37c-.4-.4-.92-.59-1.43-.59-.52 0-1.04.2-1.43.59L10.3 9.45l-7.72 7.72c-.78.78-.78 2.05 0 2.83L4 21.41c.39.39.9.59 1.41.59.51 0 1.02-.2 1.41-.59l7.78-7.78 2.81-2.81c.8-.78.8-2.07 0-2.86zM5.41 20L4 18.59l7.72-7.72 1.47 1.35L5.41 20z\"/>\n",
              "  </svg>\n",
              "      </button>\n",
              "      \n",
              "  <style>\n",
              "    .colab-df-container {\n",
              "      display:flex;\n",
              "      flex-wrap:wrap;\n",
              "      gap: 12px;\n",
              "    }\n",
              "\n",
              "    .colab-df-convert {\n",
              "      background-color: #E8F0FE;\n",
              "      border: none;\n",
              "      border-radius: 50%;\n",
              "      cursor: pointer;\n",
              "      display: none;\n",
              "      fill: #1967D2;\n",
              "      height: 32px;\n",
              "      padding: 0 0 0 0;\n",
              "      width: 32px;\n",
              "    }\n",
              "\n",
              "    .colab-df-convert:hover {\n",
              "      background-color: #E2EBFA;\n",
              "      box-shadow: 0px 1px 2px rgba(60, 64, 67, 0.3), 0px 1px 3px 1px rgba(60, 64, 67, 0.15);\n",
              "      fill: #174EA6;\n",
              "    }\n",
              "\n",
              "    [theme=dark] .colab-df-convert {\n",
              "      background-color: #3B4455;\n",
              "      fill: #D2E3FC;\n",
              "    }\n",
              "\n",
              "    [theme=dark] .colab-df-convert:hover {\n",
              "      background-color: #434B5C;\n",
              "      box-shadow: 0px 1px 3px 1px rgba(0, 0, 0, 0.15);\n",
              "      filter: drop-shadow(0px 1px 2px rgba(0, 0, 0, 0.3));\n",
              "      fill: #FFFFFF;\n",
              "    }\n",
              "  </style>\n",
              "\n",
              "      <script>\n",
              "        const buttonEl =\n",
              "          document.querySelector('#df-6dfb7bc0-36f9-402d-8240-a82056f0dd21 button.colab-df-convert');\n",
              "        buttonEl.style.display =\n",
              "          google.colab.kernel.accessAllowed ? 'block' : 'none';\n",
              "\n",
              "        async function convertToInteractive(key) {\n",
              "          const element = document.querySelector('#df-6dfb7bc0-36f9-402d-8240-a82056f0dd21');\n",
              "          const dataTable =\n",
              "            await google.colab.kernel.invokeFunction('convertToInteractive',\n",
              "                                                     [key], {});\n",
              "          if (!dataTable) return;\n",
              "\n",
              "          const docLinkHtml = 'Like what you see? Visit the ' +\n",
              "            '<a target=\"_blank\" href=https://colab.research.google.com/notebooks/data_table.ipynb>data table notebook</a>'\n",
              "            + ' to learn more about interactive tables.';\n",
              "          element.innerHTML = '';\n",
              "          dataTable['output_type'] = 'display_data';\n",
              "          await google.colab.output.renderOutput(dataTable, element);\n",
              "          const docLink = document.createElement('div');\n",
              "          docLink.innerHTML = docLinkHtml;\n",
              "          element.appendChild(docLink);\n",
              "        }\n",
              "      </script>\n",
              "    </div>\n",
              "  </div>\n",
              "  "
            ]
          },
          "metadata": {},
          "execution_count": 41
        }
      ]
    },
    {
      "cell_type": "code",
      "source": [
        "def create_year_histogram(df):\n",
        "  years_dict = {}\n",
        "  years = set([date.year for date in list(df['Date'])])\n",
        "  years_dict = {year: df[df['year'] == year].shape[0] for year in years}\n",
        "  years_dict = {k : years_dict[k] for k in sorted(years_dict)}\n",
        "  plt.figure(figsize = (10,7))\n",
        "  plt.bar([i for i in range(len(years_dict.keys()))],years_dict.values())\n",
        "  plt.title('Years in DF Histogram')\n",
        "  plt.ylabel('Count for year')\n",
        "  plt.xlabel('Year')\n",
        "  plt.xticks([i for i in range(len(years_dict.keys()))],list(years_dict.keys()),rotation = 45)\n",
        "  plt.show()"
      ],
      "metadata": {
        "id": "KJetAkq3Oj5j"
      },
      "execution_count": 60,
      "outputs": []
    },
    {
      "cell_type": "code",
      "source": [
        "create_year_histogram(nyt_train_df_2010)"
      ],
      "metadata": {
        "colab": {
          "base_uri": "https://localhost:8080/",
          "height": 473
        },
        "id": "55Lyso8TQrS1",
        "outputId": "f3124f3e-a713-4ab0-f08e-988fd6379ba0"
      },
      "execution_count": 61,
      "outputs": [
        {
          "output_type": "display_data",
          "data": {
            "text/plain": [
              "<Figure size 720x504 with 1 Axes>"
            ],
            "image/png": "[encoded data removed]"
          },
          "metadata": {
            "needs_background": "light"
          }
        }
      ]
    },
    {
      "cell_type": "code",
      "source": [
        "generate_days_histogram(nyt_train_df_2010)"
      ],
      "metadata": {
        "colab": {
          "base_uri": "https://localhost:8080/",
          "height": 478
        },
        "id": "xZQBWa9IQt6S",
        "outputId": "0ff60fc7-16e0-4329-c6f5-50d0c72dc001"
      },
      "execution_count": 62,
      "outputs": [
        {
          "output_type": "stream",
          "name": "stdout",
          "text": [
            "Sunday  Values is  29840  Which in proportion to other days is:  0.147\n",
            "Monday  Values is  31219  Which in proportion to other days is:  0.153\n",
            "Tuesday  Values is  30627  Which in proportion to other days is:  0.15\n",
            "Wednesday  Values is  30137  Which in proportion to other days is:  0.148\n",
            "Thursday  Values is  29493  Which in proportion to other days is:  0.145\n",
            "Friday  Values is  26430  Which in proportion to other days is:  0.13\n",
            "Saturday  Values is  25765  Which in proportion to other days is:  0.127\n"
          ]
        },
        {
          "output_type": "display_data",
          "data": {
            "text/plain": [
              "<Figure size 720x360 with 1 Axes>"
            ],
            "image/png": "[encoded data removed]"
          },
          "metadata": {
            "needs_background": "light"
          }
        }
      ]
    },
    {
      "cell_type": "markdown",
      "source": [
        "Say we drop row with date earlier than year 2015"
      ],
      "metadata": {
        "id": "b1MoE9ntRFvn"
      }
    },
    {
      "cell_type": "code",
      "source": [
        "print('Total enteries for train df with 2015 and further crosswords',nyt_train_df_2010[nyt_train_df_2010['year'] >= 2015].shape)"
      ],
      "metadata": {
        "colab": {
          "base_uri": "https://localhost:8080/"
        },
        "id": "K7zN6VgQRQl6",
        "outputId": "6e442998-3e04-44e7-feab-58739764c0e0"
      },
      "execution_count": 63,
      "outputs": [
        {
          "output_type": "stream",
          "name": "stdout",
          "text": [
            "Total enteries for train df with 2015 and further crosswords (117537, 5)\n"
          ]
        }
      ]
    },
    {
      "cell_type": "code",
      "source": [
        "create_year_histogram(nyt_train_df_2010[nyt_train_df_2010['year'] >= 2015])"
      ],
      "metadata": {
        "colab": {
          "base_uri": "https://localhost:8080/",
          "height": 473
        },
        "id": "qu2MwTKgRD_2",
        "outputId": "065c015e-b1dd-4918-fcf3-ee162c407577"
      },
      "execution_count": 64,
      "outputs": [
        {
          "output_type": "display_data",
          "data": {
            "text/plain": [
              "<Figure size 720x504 with 1 Axes>"
            ],
            "image/png": "[encoded data removed]"
          },
          "metadata": {
            "needs_background": "light"
          }
        }
      ]
    },
    {
      "cell_type": "code",
      "source": [
        "generate_days_histogram(nyt_train_df_2010[nyt_train_df_2010['year'] >= 2015])"
      ],
      "metadata": {
        "colab": {
          "base_uri": "https://localhost:8080/",
          "height": 478
        },
        "id": "H4MAmh_NRPKb",
        "outputId": "782a815f-807c-4cad-c172-65745dcadcf3"
      },
      "execution_count": 65,
      "outputs": [
        {
          "output_type": "stream",
          "name": "stdout",
          "text": [
            "Sunday  Values is  17163  Which in proportion to other days is:  0.146\n",
            "Monday  Values is  17980  Which in proportion to other days is:  0.153\n",
            "Tuesday  Values is  17594  Which in proportion to other days is:  0.15\n",
            "Wednesday  Values is  17358  Which in proportion to other days is:  0.148\n",
            "Thursday  Values is  17076  Which in proportion to other days is:  0.145\n",
            "Friday  Values is  15519  Which in proportion to other days is:  0.132\n",
            "Saturday  Values is  14847  Which in proportion to other days is:  0.126\n"
          ]
        },
        {
          "output_type": "display_data",
          "data": {
            "text/plain": [
              "<Figure size 720x360 with 1 Axes>"
            ],
            "image/png": "[encoded data removed]"
          },
          "metadata": {
            "needs_background": "light"
          }
        }
      ]
    },
    {
      "cell_type": "code",
      "source": [
        "print('Lets check nuber of enteries on eval df for crosswords newer than 2015',nyt_eval_df_2010[nyt_eval_df_2010['year'] >= 2015].shape)"
      ],
      "metadata": {
        "colab": {
          "base_uri": "https://localhost:8080/"
        },
        "id": "VgC8IkTlRcPW",
        "outputId": "3e835478-9f48-4504-a5ab-23eff7117b3b"
      },
      "execution_count": 66,
      "outputs": [
        {
          "output_type": "stream",
          "name": "stdout",
          "text": [
            "Lets check nuber of enteries on eval df for crosswords newer than 2015 (33848, 5)\n"
          ]
        }
      ]
    },
    {
      "cell_type": "code",
      "source": [
        "create_year_histogram(nyt_eval_df_2010[nyt_eval_df_2010['year'] >= 2015])"
      ],
      "metadata": {
        "colab": {
          "base_uri": "https://localhost:8080/",
          "height": 473
        },
        "id": "M8rOvIHBRoCa",
        "outputId": "87d5e7a6-4326-407c-9737-b13eaf74adff"
      },
      "execution_count": 67,
      "outputs": [
        {
          "output_type": "display_data",
          "data": {
            "text/plain": [
              "<Figure size 720x504 with 1 Axes>"
            ],
            "image/png": "[encoded data removed]"
          },
          "metadata": {
            "needs_background": "light"
          }
        }
      ]
    },
    {
      "cell_type": "code",
      "source": [
        "generate_days_histogram(nyt_eval_df_2010[nyt_eval_df_2010['year'] >= 2015])"
      ],
      "metadata": {
        "colab": {
          "base_uri": "https://localhost:8080/",
          "height": 478
        },
        "id": "n0xro7f0Ry70",
        "outputId": "99ce44b7-d0e3-4a6d-daf2-29701c3a5428"
      },
      "execution_count": 68,
      "outputs": [
        {
          "output_type": "stream",
          "name": "stdout",
          "text": [
            "Sunday  Values is  4919  Which in proportion to other days is:  0.145\n",
            "Monday  Values is  5187  Which in proportion to other days is:  0.153\n",
            "Tuesday  Values is  5176  Which in proportion to other days is:  0.153\n",
            "Wednesday  Values is  4973  Which in proportion to other days is:  0.147\n",
            "Thursday  Values is  4986  Which in proportion to other days is:  0.147\n",
            "Friday  Values is  4407  Which in proportion to other days is:  0.13\n",
            "Saturday  Values is  4200  Which in proportion to other days is:  0.124\n"
          ]
        },
        {
          "output_type": "display_data",
          "data": {
            "text/plain": [
              "<Figure size 720x360 with 1 Axes>"
            ],
            "image/png": "[encoded data removed]"
          },
          "metadata": {
            "needs_background": "light"
          }
        }
      ]
    },
    {
      "cell_type": "code",
      "source": [
        "print('Lets check nuber of enteries on eval df for crosswords newer than 2015',nyt_test_df_2010[nyt_test_df_2010['year'] >= 2015].shape)"
      ],
      "metadata": {
        "colab": {
          "base_uri": "https://localhost:8080/"
        },
        "id": "2gVKYgE4R2-c",
        "outputId": "ac2e9355-79cb-43e9-d05c-ac067012075e"
      },
      "execution_count": 69,
      "outputs": [
        {
          "output_type": "stream",
          "name": "stdout",
          "text": [
            "Lets check nuber of enteries on eval df for crosswords newer than 2015 (16684, 5)\n"
          ]
        }
      ]
    },
    {
      "cell_type": "code",
      "source": [
        "create_year_histogram(nyt_test_df_2010[nyt_test_df_2010['year'] >= 2015])"
      ],
      "metadata": {
        "colab": {
          "base_uri": "https://localhost:8080/",
          "height": 473
        },
        "id": "oqmfCU6MSA3k",
        "outputId": "7972f0d5-d14a-4702-d97e-38d5cbc69bec"
      },
      "execution_count": 70,
      "outputs": [
        {
          "output_type": "display_data",
          "data": {
            "text/plain": [
              "<Figure size 720x504 with 1 Axes>"
            ],
            "image/png": "[encoded data removed]"
          },
          "metadata": {
            "needs_background": "light"
          }
        }
      ]
    },
    {
      "cell_type": "code",
      "source": [
        "generate_days_histogram(nyt_test_df_2010[nyt_test_df_2010['year'] >= 2015])"
      ],
      "metadata": {
        "colab": {
          "base_uri": "https://localhost:8080/",
          "height": 478
        },
        "id": "HWkwOOt8SDiw",
        "outputId": "45af78e2-eb23-46df-a28f-44ed4381f95a"
      },
      "execution_count": 72,
      "outputs": [
        {
          "output_type": "stream",
          "name": "stdout",
          "text": [
            "Sunday  Values is  2451  Which in proportion to other days is:  0.147\n",
            "Monday  Values is  2548  Which in proportion to other days is:  0.153\n",
            "Tuesday  Values is  2511  Which in proportion to other days is:  0.151\n",
            "Wednesday  Values is  2437  Which in proportion to other days is:  0.146\n",
            "Thursday  Values is  2491  Which in proportion to other days is:  0.149\n",
            "Friday  Values is  2136  Which in proportion to other days is:  0.128\n",
            "Saturday  Values is  2110  Which in proportion to other days is:  0.126\n"
          ]
        },
        {
          "output_type": "display_data",
          "data": {
            "text/plain": [
              "<Figure size 720x360 with 1 Axes>"
            ],
            "image/png": "[encoded data removed]"
          },
          "metadata": {
            "needs_background": "light"
          }
        }
      ]
    },
    {
      "cell_type": "code",
      "source": [
        "nyt_train_df_2015 = nyt_train_df_2010[nyt_train_df_2010['year'] >= 2015]\n",
        "nyt_eval_df_2015 = nyt_eval_df_2010[nyt_eval_df_2010['year'] >= 2015]\n",
        "nyt_test_df_2015 = nyt_test_df_2010[nyt_test_df_2010['year'] >= 2015]"
      ],
      "metadata": {
        "id": "iB848ihUS8Xo"
      },
      "execution_count": 73,
      "outputs": []
    },
    {
      "cell_type": "code",
      "source": [
        "nyt_train_df_2015.to_csv('/content/drive/MyDrive/NLP/Project/nytcrosswords_balanced_days_train_2015.csv')\n",
        "nyt_eval_df_2015.to_csv('/content/drive/MyDrive/NLP/Project/nytcrosswords_balanced_days_eval_2015.csv')\n",
        "nyt_test_df_2015.to_csv('/content/drive/MyDrive/NLP/Project/nytcrosswords_balanced_days_test_2015.csv')"
      ],
      "metadata": {
        "id": "ZMl2K_7PSuNY"
      },
      "execution_count": 74,
      "outputs": []
    },
    {
      "cell_type": "code",
      "source": [
        ""
      ],
      "metadata": {
        "id": "S1I-vC0hTOV2"
      },
      "execution_count": null,
      "outputs": []
    }
  ]
}